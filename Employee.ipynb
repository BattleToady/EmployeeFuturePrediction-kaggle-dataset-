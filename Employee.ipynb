{
 "cells": [
  {
   "cell_type": "code",
   "execution_count": 1,
   "id": "c2843e1b",
   "metadata": {},
   "outputs": [],
   "source": [
    "import pandas as pd"
   ]
  },
  {
   "cell_type": "code",
   "execution_count": 2,
   "id": "b22f2f34",
   "metadata": {},
   "outputs": [],
   "source": [
    "df = pd.read_csv('Employee.csv')"
   ]
  },
  {
   "cell_type": "code",
   "execution_count": 3,
   "id": "a77cc399",
   "metadata": {},
   "outputs": [
    {
     "data": {
      "text/html": [
       "<div>\n",
       "<style scoped>\n",
       "    .dataframe tbody tr th:only-of-type {\n",
       "        vertical-align: middle;\n",
       "    }\n",
       "\n",
       "    .dataframe tbody tr th {\n",
       "        vertical-align: top;\n",
       "    }\n",
       "\n",
       "    .dataframe thead th {\n",
       "        text-align: right;\n",
       "    }\n",
       "</style>\n",
       "<table border=\"1\" class=\"dataframe\">\n",
       "  <thead>\n",
       "    <tr style=\"text-align: right;\">\n",
       "      <th></th>\n",
       "      <th>Education</th>\n",
       "      <th>JoiningYear</th>\n",
       "      <th>City</th>\n",
       "      <th>PaymentTier</th>\n",
       "      <th>Age</th>\n",
       "      <th>Gender</th>\n",
       "      <th>EverBenched</th>\n",
       "      <th>ExperienceInCurrentDomain</th>\n",
       "      <th>LeaveOrNot</th>\n",
       "    </tr>\n",
       "  </thead>\n",
       "  <tbody>\n",
       "    <tr>\n",
       "      <th>0</th>\n",
       "      <td>Bachelors</td>\n",
       "      <td>2017</td>\n",
       "      <td>Bangalore</td>\n",
       "      <td>3</td>\n",
       "      <td>34</td>\n",
       "      <td>Male</td>\n",
       "      <td>No</td>\n",
       "      <td>0</td>\n",
       "      <td>0</td>\n",
       "    </tr>\n",
       "    <tr>\n",
       "      <th>1</th>\n",
       "      <td>Bachelors</td>\n",
       "      <td>2013</td>\n",
       "      <td>Pune</td>\n",
       "      <td>1</td>\n",
       "      <td>28</td>\n",
       "      <td>Female</td>\n",
       "      <td>No</td>\n",
       "      <td>3</td>\n",
       "      <td>1</td>\n",
       "    </tr>\n",
       "    <tr>\n",
       "      <th>2</th>\n",
       "      <td>Bachelors</td>\n",
       "      <td>2014</td>\n",
       "      <td>New Delhi</td>\n",
       "      <td>3</td>\n",
       "      <td>38</td>\n",
       "      <td>Female</td>\n",
       "      <td>No</td>\n",
       "      <td>2</td>\n",
       "      <td>0</td>\n",
       "    </tr>\n",
       "    <tr>\n",
       "      <th>3</th>\n",
       "      <td>Masters</td>\n",
       "      <td>2016</td>\n",
       "      <td>Bangalore</td>\n",
       "      <td>3</td>\n",
       "      <td>27</td>\n",
       "      <td>Male</td>\n",
       "      <td>No</td>\n",
       "      <td>5</td>\n",
       "      <td>1</td>\n",
       "    </tr>\n",
       "    <tr>\n",
       "      <th>4</th>\n",
       "      <td>Masters</td>\n",
       "      <td>2017</td>\n",
       "      <td>Pune</td>\n",
       "      <td>3</td>\n",
       "      <td>24</td>\n",
       "      <td>Male</td>\n",
       "      <td>Yes</td>\n",
       "      <td>2</td>\n",
       "      <td>1</td>\n",
       "    </tr>\n",
       "  </tbody>\n",
       "</table>\n",
       "</div>"
      ],
      "text/plain": [
       "   Education  JoiningYear       City  PaymentTier  Age  Gender EverBenched  \\\n",
       "0  Bachelors         2017  Bangalore            3   34    Male          No   \n",
       "1  Bachelors         2013       Pune            1   28  Female          No   \n",
       "2  Bachelors         2014  New Delhi            3   38  Female          No   \n",
       "3    Masters         2016  Bangalore            3   27    Male          No   \n",
       "4    Masters         2017       Pune            3   24    Male         Yes   \n",
       "\n",
       "   ExperienceInCurrentDomain  LeaveOrNot  \n",
       "0                          0           0  \n",
       "1                          3           1  \n",
       "2                          2           0  \n",
       "3                          5           1  \n",
       "4                          2           1  "
      ]
     },
     "execution_count": 3,
     "metadata": {},
     "output_type": "execute_result"
    }
   ],
   "source": [
    "df.head()"
   ]
  },
  {
   "cell_type": "code",
   "execution_count": 4,
   "id": "46df071b",
   "metadata": {},
   "outputs": [],
   "source": [
    "# looking for some relationship with fetures"
   ]
  },
  {
   "cell_type": "code",
   "execution_count": 5,
   "id": "3e540470",
   "metadata": {},
   "outputs": [
    {
     "data": {
      "text/plain": [
       "Education\n",
       "Bachelors    0.313524\n",
       "Masters      0.487973\n",
       "PHD          0.251397\n",
       "Name: LeaveOrNot, dtype: float64"
      ]
     },
     "execution_count": 5,
     "metadata": {},
     "output_type": "execute_result"
    }
   ],
   "source": [
    "df.groupby('Education').LeaveOrNot.mean()"
   ]
  },
  {
   "cell_type": "code",
   "execution_count": 6,
   "id": "98e6a7d1",
   "metadata": {},
   "outputs": [
    {
     "data": {
      "text/plain": [
       "Education\n",
       "Bachelors    3601\n",
       "Masters       873\n",
       "PHD           179\n",
       "Name: LeaveOrNot, dtype: int64"
      ]
     },
     "execution_count": 6,
     "metadata": {},
     "output_type": "execute_result"
    }
   ],
   "source": [
    "df.groupby('Education').LeaveOrNot.count()"
   ]
  },
  {
   "cell_type": "code",
   "execution_count": 7,
   "id": "471ec0c0",
   "metadata": {},
   "outputs": [
    {
     "data": {
      "text/plain": [
       "Education  City     \n",
       "Bachelors  Bangalore    0.240253\n",
       "           New Delhi    0.180633\n",
       "           Pune         0.532609\n",
       "Masters    Bangalore    0.701613\n",
       "           New Delhi    0.470019\n",
       "           Pune         0.413793\n",
       "PHD        Bangalore    0.288462\n",
       "           New Delhi    0.252427\n",
       "           Pune         0.166667\n",
       "Name: LeaveOrNot, dtype: float64"
      ]
     },
     "execution_count": 7,
     "metadata": {},
     "output_type": "execute_result"
    }
   ],
   "source": [
    "df.groupby(['Education', 'City']).LeaveOrNot.mean()"
   ]
  },
  {
   "cell_type": "code",
   "execution_count": 8,
   "id": "cd1b7891",
   "metadata": {},
   "outputs": [],
   "source": [
    "from matplotlib.pyplot import figure\n",
    "from matplotlib.pyplot import bar\n",
    "import matplotlib.pyplot as plt"
   ]
  },
  {
   "cell_type": "code",
   "execution_count": 9,
   "id": "e043f1c5",
   "metadata": {},
   "outputs": [],
   "source": [
    "# Insight - Masters leaves more offen than other education groups, also Bachelors in Pune have anomaly level of leaving"
   ]
  },
  {
   "cell_type": "code",
   "execution_count": 10,
   "id": "82f6e2ab",
   "metadata": {},
   "outputs": [
    {
     "data": {
      "text/plain": [
       "Text(0.5, 1.0, 'Dependence LeaveOrNot on Education and City')"
      ]
     },
     "execution_count": 10,
     "metadata": {},
     "output_type": "execute_result"
    },
    {
     "data": {
      "image/png": "[encoded data removed]",
      "text/plain": [
       "<Figure size 1440x480 with 1 Axes>"
      ]
     },
     "metadata": {
      "needs_background": "light"
     },
     "output_type": "display_data"
    }
   ],
   "source": [
    "colors = ['#0B6E4F','#0B6E4F','#0B6E4F', '#FA9F42','#FA9F42','#FA9F42', '#2B4162','#2B4162','#2B4162']\n",
    "groups = list(df.groupby(['Education', 'City']).groups)\n",
    "for i in range(len(groups)):\n",
    "    groups[i] = str(groups[i][0]) +' ' + str(groups[i][1])\n",
    "figure(figsize=(18, 6), dpi=80)\n",
    "plt.ylabel(\"LeaveOrNot part\")\n",
    "bar(x = groups, height = df.groupby(['Education', 'City']).LeaveOrNot.mean().values, color = colors)\n",
    "plt.title(label = \"Dependence LeaveOrNot on Education and City\")"
   ]
  },
  {
   "cell_type": "code",
   "execution_count": 11,
   "id": "99601688",
   "metadata": {},
   "outputs": [
    {
     "data": {
      "text/plain": [
       "Education  City     \n",
       "Bachelors  Bangalore    2052\n",
       "           New Delhi     537\n",
       "           Pune         1012\n",
       "Masters    Bangalore     124\n",
       "           New Delhi     517\n",
       "           Pune          232\n",
       "PHD        Bangalore      52\n",
       "           New Delhi     103\n",
       "           Pune           24\n",
       "Name: LeaveOrNot, dtype: int64"
      ]
     },
     "execution_count": 11,
     "metadata": {},
     "output_type": "execute_result"
    }
   ],
   "source": [
    "df.groupby(['Education', 'City']).LeaveOrNot.count()"
   ]
  },
  {
   "cell_type": "code",
   "execution_count": 12,
   "id": "19c7ae44",
   "metadata": {},
   "outputs": [
    {
     "data": {
      "text/plain": [
       "Education  EverBenched\n",
       "Bachelors  No             0.302681\n",
       "           Yes            0.402036\n",
       "Masters    No             0.465234\n",
       "           Yes            0.707317\n",
       "PHD        No             0.250000\n",
       "           Yes            0.333333\n",
       "Name: LeaveOrNot, dtype: float64"
      ]
     },
     "execution_count": 12,
     "metadata": {},
     "output_type": "execute_result"
    }
   ],
   "source": [
    "df.groupby(['Education', 'EverBenched']).LeaveOrNot.mean()"
   ]
  },
  {
   "cell_type": "code",
   "execution_count": 13,
   "id": "67341f28",
   "metadata": {},
   "outputs": [],
   "source": [
    "#Insight - Masters more offen leave if they were everbenched"
   ]
  },
  {
   "cell_type": "code",
   "execution_count": 14,
   "id": "8c1001e6",
   "metadata": {},
   "outputs": [
    {
     "data": {
      "text/plain": [
       "Text(0.5, 1.0, 'Dependence LeaveOrNot on Education and EverBenched')"
      ]
     },
     "execution_count": 14,
     "metadata": {},
     "output_type": "execute_result"
    },
    {
     "data": {
      "image/png": "[encoded data removed]",
      "text/plain": [
       "<Figure size 1440x480 with 1 Axes>"
      ]
     },
     "metadata": {
      "needs_background": "light"
     },
     "output_type": "display_data"
    }
   ],
   "source": [
    "colors = ['#0B6E4F','#0B6E4F', '#FA9F42','#FA9F42', '#2B4162','#2B4162']\n",
    "groups = list(df.groupby(['Education', 'EverBenched']).groups)\n",
    "for i in range(len(groups)):\n",
    "    groups[i] = str(groups[i][0]) + ' ' + str(groups[i][1])\n",
    "figure(figsize=(18, 6), dpi=80)\n",
    "bar(x = groups, height = df.groupby(['Education', 'EverBenched']).LeaveOrNot.mean().values, color = colors)\n",
    "plt.ylabel(\"LeaveOrNot part\")\n",
    "plt.title(label = \"Dependence LeaveOrNot on Education and EverBenched\")"
   ]
  },
  {
   "cell_type": "code",
   "execution_count": 15,
   "id": "ca1eb88e",
   "metadata": {},
   "outputs": [
    {
     "data": {
      "text/plain": [
       "Education  EverBenched\n",
       "Bachelors  No             3208\n",
       "           Yes             393\n",
       "Masters    No              791\n",
       "           Yes              82\n",
       "PHD        No              176\n",
       "           Yes               3\n",
       "Name: LeaveOrNot, dtype: int64"
      ]
     },
     "execution_count": 15,
     "metadata": {},
     "output_type": "execute_result"
    }
   ],
   "source": [
    "df.groupby(['Education', 'EverBenched']).LeaveOrNot.count()"
   ]
  },
  {
   "cell_type": "code",
   "execution_count": null,
   "id": "dcbf072e",
   "metadata": {},
   "outputs": [],
   "source": []
  },
  {
   "cell_type": "code",
   "execution_count": 16,
   "id": "2ab93506",
   "metadata": {},
   "outputs": [
    {
     "data": {
      "text/html": [
       "<div>\n",
       "<style scoped>\n",
       "    .dataframe tbody tr th:only-of-type {\n",
       "        vertical-align: middle;\n",
       "    }\n",
       "\n",
       "    .dataframe tbody tr th {\n",
       "        vertical-align: top;\n",
       "    }\n",
       "\n",
       "    .dataframe thead th {\n",
       "        text-align: right;\n",
       "    }\n",
       "</style>\n",
       "<table border=\"1\" class=\"dataframe\">\n",
       "  <thead>\n",
       "    <tr style=\"text-align: right;\">\n",
       "      <th></th>\n",
       "      <th>Education</th>\n",
       "      <th>JoiningYear</th>\n",
       "      <th>City</th>\n",
       "      <th>PaymentTier</th>\n",
       "      <th>Age</th>\n",
       "      <th>Gender</th>\n",
       "      <th>EverBenched</th>\n",
       "      <th>ExperienceInCurrentDomain</th>\n",
       "      <th>LeaveOrNot</th>\n",
       "    </tr>\n",
       "  </thead>\n",
       "  <tbody>\n",
       "    <tr>\n",
       "      <th>0</th>\n",
       "      <td>Bachelors</td>\n",
       "      <td>2017</td>\n",
       "      <td>Bangalore</td>\n",
       "      <td>3</td>\n",
       "      <td>34</td>\n",
       "      <td>Male</td>\n",
       "      <td>No</td>\n",
       "      <td>0</td>\n",
       "      <td>0</td>\n",
       "    </tr>\n",
       "    <tr>\n",
       "      <th>1</th>\n",
       "      <td>Bachelors</td>\n",
       "      <td>2013</td>\n",
       "      <td>Pune</td>\n",
       "      <td>1</td>\n",
       "      <td>28</td>\n",
       "      <td>Female</td>\n",
       "      <td>No</td>\n",
       "      <td>3</td>\n",
       "      <td>1</td>\n",
       "    </tr>\n",
       "    <tr>\n",
       "      <th>2</th>\n",
       "      <td>Bachelors</td>\n",
       "      <td>2014</td>\n",
       "      <td>New Delhi</td>\n",
       "      <td>3</td>\n",
       "      <td>38</td>\n",
       "      <td>Female</td>\n",
       "      <td>No</td>\n",
       "      <td>2</td>\n",
       "      <td>0</td>\n",
       "    </tr>\n",
       "    <tr>\n",
       "      <th>3</th>\n",
       "      <td>Masters</td>\n",
       "      <td>2016</td>\n",
       "      <td>Bangalore</td>\n",
       "      <td>3</td>\n",
       "      <td>27</td>\n",
       "      <td>Male</td>\n",
       "      <td>No</td>\n",
       "      <td>5</td>\n",
       "      <td>1</td>\n",
       "    </tr>\n",
       "    <tr>\n",
       "      <th>4</th>\n",
       "      <td>Masters</td>\n",
       "      <td>2017</td>\n",
       "      <td>Pune</td>\n",
       "      <td>3</td>\n",
       "      <td>24</td>\n",
       "      <td>Male</td>\n",
       "      <td>Yes</td>\n",
       "      <td>2</td>\n",
       "      <td>1</td>\n",
       "    </tr>\n",
       "  </tbody>\n",
       "</table>\n",
       "</div>"
      ],
      "text/plain": [
       "   Education  JoiningYear       City  PaymentTier  Age  Gender EverBenched  \\\n",
       "0  Bachelors         2017  Bangalore            3   34    Male          No   \n",
       "1  Bachelors         2013       Pune            1   28  Female          No   \n",
       "2  Bachelors         2014  New Delhi            3   38  Female          No   \n",
       "3    Masters         2016  Bangalore            3   27    Male          No   \n",
       "4    Masters         2017       Pune            3   24    Male         Yes   \n",
       "\n",
       "   ExperienceInCurrentDomain  LeaveOrNot  \n",
       "0                          0           0  \n",
       "1                          3           1  \n",
       "2                          2           0  \n",
       "3                          5           1  \n",
       "4                          2           1  "
      ]
     },
     "execution_count": 16,
     "metadata": {},
     "output_type": "execute_result"
    }
   ],
   "source": [
    "df.head()"
   ]
  },
  {
   "cell_type": "code",
   "execution_count": 17,
   "id": "4b601b46",
   "metadata": {},
   "outputs": [
    {
     "data": {
      "text/plain": [
       "Gender\n",
       "Female    0.471467\n",
       "Male      0.257739\n",
       "Name: LeaveOrNot, dtype: float64"
      ]
     },
     "execution_count": 17,
     "metadata": {},
     "output_type": "execute_result"
    }
   ],
   "source": [
    "df.groupby('Gender').LeaveOrNot.mean()"
   ]
  },
  {
   "cell_type": "code",
   "execution_count": 18,
   "id": "7818bb14",
   "metadata": {},
   "outputs": [],
   "source": [
    "#Insight - women leave unusuall offen"
   ]
  },
  {
   "cell_type": "code",
   "execution_count": 19,
   "id": "fe38640a",
   "metadata": {},
   "outputs": [
    {
     "data": {
      "text/plain": [
       "Text(0.5, 1.0, 'Dependence LeaveOrNot on Gender')"
      ]
     },
     "execution_count": 19,
     "metadata": {},
     "output_type": "execute_result"
    },
    {
     "data": {
      "image/png": "[encoded data removed]",
      "text/plain": [
       "<Figure size 432x288 with 1 Axes>"
      ]
     },
     "metadata": {
      "needs_background": "light"
     },
     "output_type": "display_data"
    }
   ],
   "source": [
    "colors = ['#EA1744', '#2B4162']\n",
    "bar(x = ['Female', 'Male'], height = df.groupby(['Gender']).LeaveOrNot.mean().values, color=colors)\n",
    "plt.ylabel(\"LeaveOrNot part\")\n",
    "plt.title(label = \"Dependence LeaveOrNot on Gender\")"
   ]
  },
  {
   "cell_type": "code",
   "execution_count": 20,
   "id": "ac909211",
   "metadata": {},
   "outputs": [
    {
     "data": {
      "text/plain": [
       "Gender  City     \n",
       "Female  Bangalore    0.300455\n",
       "        New Delhi    0.314516\n",
       "        Pune         0.823826\n",
       "Male    Bangalore    0.253027\n",
       "        New Delhi    0.318436\n",
       "        Pune         0.220238\n",
       "Name: LeaveOrNot, dtype: float64"
      ]
     },
     "execution_count": 20,
     "metadata": {},
     "output_type": "execute_result"
    }
   ],
   "source": [
    "df.groupby(['Gender', 'City']).LeaveOrNot.mean()"
   ]
  },
  {
   "cell_type": "code",
   "execution_count": 21,
   "id": "7c8406dd",
   "metadata": {},
   "outputs": [],
   "source": [
    "# Insight - near 80% women leaves in Pune, other cities have same level"
   ]
  },
  {
   "cell_type": "code",
   "execution_count": 22,
   "id": "3dc07c97",
   "metadata": {},
   "outputs": [
    {
     "data": {
      "text/plain": [
       "Text(0.5, 1.0, 'Dependence LeaveOrNot on Gender and City(placement of office)')"
      ]
     },
     "execution_count": 22,
     "metadata": {},
     "output_type": "execute_result"
    },
    {
     "data": {
      "image/png": "[encoded data removed]",
      "text/plain": [
       "<Figure size 1440x480 with 1 Axes>"
      ]
     },
     "metadata": {
      "needs_background": "light"
     },
     "output_type": "display_data"
    }
   ],
   "source": [
    "colors =  ['#EA1744','#EA1744','#EA1744', '#2B4162','#2B4162','#2B4162']\n",
    "groups = list(df.groupby(['Gender', 'City']).groups)\n",
    "for i in range(len(groups)):\n",
    "    groups[i] = str(groups[i][0]) + ' ' + str(groups[i][1])\n",
    "figure(figsize=(18, 6), dpi=80)\n",
    "bar(x = groups, height = df.groupby(['Gender', 'City']).LeaveOrNot.mean().values, color = colors)\n",
    "plt.ylabel(\"LeaveOrNot part\")\n",
    "plt.title(label = \"Dependence LeaveOrNot on Gender and City(placement of office)\")"
   ]
  },
  {
   "cell_type": "code",
   "execution_count": 23,
   "id": "705e2a3d",
   "metadata": {},
   "outputs": [
    {
     "data": {
      "text/plain": [
       "Gender  City     \n",
       "Female  Bangalore     659\n",
       "        New Delhi     620\n",
       "        Pune          596\n",
       "Male    Bangalore    1569\n",
       "        New Delhi     537\n",
       "        Pune          672\n",
       "Name: LeaveOrNot, dtype: int64"
      ]
     },
     "execution_count": 23,
     "metadata": {},
     "output_type": "execute_result"
    }
   ],
   "source": [
    "df.groupby(['Gender', 'City']).LeaveOrNot.count()"
   ]
  },
  {
   "cell_type": "code",
   "execution_count": 24,
   "id": "d09fee6b",
   "metadata": {},
   "outputs": [
    {
     "data": {
      "text/plain": [
       "<AxesSubplot:>"
      ]
     },
     "execution_count": 24,
     "metadata": {},
     "output_type": "execute_result"
    },
    {
     "data": {
      "image/png": "[encoded data removed]",
      "text/plain": [
       "<Figure size 432x288 with 1 Axes>"
      ]
     },
     "metadata": {
      "needs_background": "light"
     },
     "output_type": "display_data"
    }
   ],
   "source": [
    "df[(df.Gender == 'Female') & (df.LeaveOrNot == 0)].Age.hist()"
   ]
  },
  {
   "cell_type": "code",
   "execution_count": 25,
   "id": "3a5b06b0",
   "metadata": {},
   "outputs": [
    {
     "data": {
      "text/plain": [
       "<AxesSubplot:>"
      ]
     },
     "execution_count": 25,
     "metadata": {},
     "output_type": "execute_result"
    },
    {
     "data": {
      "image/png": "[encoded data removed]",
      "text/plain": [
       "<Figure size 432x288 with 1 Axes>"
      ]
     },
     "metadata": {
      "needs_background": "light"
     },
     "output_type": "display_data"
    }
   ],
   "source": [
    "df[(df.Gender == 'Female') & (df.LeaveOrNot == 1)].Age.hist()"
   ]
  },
  {
   "cell_type": "code",
   "execution_count": 26,
   "id": "fa007a30",
   "metadata": {},
   "outputs": [],
   "source": [
    "# Age hasn't enought influence on women's leaving"
   ]
  },
  {
   "cell_type": "code",
   "execution_count": 27,
   "id": "03141985",
   "metadata": {},
   "outputs": [
    {
     "data": {
      "text/plain": [
       "Gender  EverBenched\n",
       "Female  No             0.457547\n",
       "        Yes            0.603352\n",
       "Male    No             0.244857\n",
       "        Yes            0.364548\n",
       "Name: LeaveOrNot, dtype: float64"
      ]
     },
     "execution_count": 27,
     "metadata": {},
     "output_type": "execute_result"
    }
   ],
   "source": [
    "df.groupby(['Gender', 'EverBenched']).LeaveOrNot.mean()"
   ]
  },
  {
   "cell_type": "code",
   "execution_count": 28,
   "id": "b7980afe",
   "metadata": {},
   "outputs": [
    {
     "data": {
      "text/plain": [
       "Text(0.5, 1.0, 'Dependence LeaveOrNot on Gender and EverBenched')"
      ]
     },
     "execution_count": 28,
     "metadata": {},
     "output_type": "execute_result"
    },
    {
     "data": {
      "image/png": "[encoded data removed]",
      "text/plain": [
       "<Figure size 1440x480 with 1 Axes>"
      ]
     },
     "metadata": {
      "needs_background": "light"
     },
     "output_type": "display_data"
    }
   ],
   "source": [
    "colors = ['#EA1744', '#EA1744', '#2B4162', '#2B4162']\n",
    "groups = list(df.groupby(['Gender', 'EverBenched']).groups)\n",
    "for i in range(len(groups)):\n",
    "    groups[i] = str(groups[i][0]) + ' ' + str(groups[i][1])\n",
    "figure(figsize=(18, 6), dpi=80)\n",
    "bar(x = groups, height = df.groupby(['Gender', 'EverBenched']).LeaveOrNot.mean().values, color = colors)\n",
    "plt.ylabel(\"LeaveOrNot part\")\n",
    "plt.title(label = \"Dependence LeaveOrNot on Gender and EverBenched\")"
   ]
  },
  {
   "cell_type": "code",
   "execution_count": 29,
   "id": "8f7243c6",
   "metadata": {},
   "outputs": [
    {
     "data": {
      "text/plain": [
       "Gender  EverBenched\n",
       "Female  No             1696\n",
       "        Yes             179\n",
       "Male    No             2479\n",
       "        Yes             299\n",
       "Name: LeaveOrNot, dtype: int64"
      ]
     },
     "execution_count": 29,
     "metadata": {},
     "output_type": "execute_result"
    }
   ],
   "source": [
    "df.groupby(['Gender', 'EverBenched']).LeaveOrNot.count()"
   ]
  },
  {
   "cell_type": "code",
   "execution_count": null,
   "id": "9dde4805",
   "metadata": {},
   "outputs": [],
   "source": []
  },
  {
   "cell_type": "code",
   "execution_count": 30,
   "id": "e003ad97",
   "metadata": {},
   "outputs": [
    {
     "data": {
      "text/html": [
       "<div>\n",
       "<style scoped>\n",
       "    .dataframe tbody tr th:only-of-type {\n",
       "        vertical-align: middle;\n",
       "    }\n",
       "\n",
       "    .dataframe tbody tr th {\n",
       "        vertical-align: top;\n",
       "    }\n",
       "\n",
       "    .dataframe thead th {\n",
       "        text-align: right;\n",
       "    }\n",
       "</style>\n",
       "<table border=\"1\" class=\"dataframe\">\n",
       "  <thead>\n",
       "    <tr style=\"text-align: right;\">\n",
       "      <th></th>\n",
       "      <th>Education</th>\n",
       "      <th>JoiningYear</th>\n",
       "      <th>City</th>\n",
       "      <th>PaymentTier</th>\n",
       "      <th>Age</th>\n",
       "      <th>Gender</th>\n",
       "      <th>EverBenched</th>\n",
       "      <th>ExperienceInCurrentDomain</th>\n",
       "      <th>LeaveOrNot</th>\n",
       "    </tr>\n",
       "  </thead>\n",
       "  <tbody>\n",
       "    <tr>\n",
       "      <th>0</th>\n",
       "      <td>Bachelors</td>\n",
       "      <td>2017</td>\n",
       "      <td>Bangalore</td>\n",
       "      <td>3</td>\n",
       "      <td>34</td>\n",
       "      <td>Male</td>\n",
       "      <td>No</td>\n",
       "      <td>0</td>\n",
       "      <td>0</td>\n",
       "    </tr>\n",
       "    <tr>\n",
       "      <th>1</th>\n",
       "      <td>Bachelors</td>\n",
       "      <td>2013</td>\n",
       "      <td>Pune</td>\n",
       "      <td>1</td>\n",
       "      <td>28</td>\n",
       "      <td>Female</td>\n",
       "      <td>No</td>\n",
       "      <td>3</td>\n",
       "      <td>1</td>\n",
       "    </tr>\n",
       "    <tr>\n",
       "      <th>2</th>\n",
       "      <td>Bachelors</td>\n",
       "      <td>2014</td>\n",
       "      <td>New Delhi</td>\n",
       "      <td>3</td>\n",
       "      <td>38</td>\n",
       "      <td>Female</td>\n",
       "      <td>No</td>\n",
       "      <td>2</td>\n",
       "      <td>0</td>\n",
       "    </tr>\n",
       "    <tr>\n",
       "      <th>3</th>\n",
       "      <td>Masters</td>\n",
       "      <td>2016</td>\n",
       "      <td>Bangalore</td>\n",
       "      <td>3</td>\n",
       "      <td>27</td>\n",
       "      <td>Male</td>\n",
       "      <td>No</td>\n",
       "      <td>5</td>\n",
       "      <td>1</td>\n",
       "    </tr>\n",
       "    <tr>\n",
       "      <th>4</th>\n",
       "      <td>Masters</td>\n",
       "      <td>2017</td>\n",
       "      <td>Pune</td>\n",
       "      <td>3</td>\n",
       "      <td>24</td>\n",
       "      <td>Male</td>\n",
       "      <td>Yes</td>\n",
       "      <td>2</td>\n",
       "      <td>1</td>\n",
       "    </tr>\n",
       "  </tbody>\n",
       "</table>\n",
       "</div>"
      ],
      "text/plain": [
       "   Education  JoiningYear       City  PaymentTier  Age  Gender EverBenched  \\\n",
       "0  Bachelors         2017  Bangalore            3   34    Male          No   \n",
       "1  Bachelors         2013       Pune            1   28  Female          No   \n",
       "2  Bachelors         2014  New Delhi            3   38  Female          No   \n",
       "3    Masters         2016  Bangalore            3   27    Male          No   \n",
       "4    Masters         2017       Pune            3   24    Male         Yes   \n",
       "\n",
       "   ExperienceInCurrentDomain  LeaveOrNot  \n",
       "0                          0           0  \n",
       "1                          3           1  \n",
       "2                          2           0  \n",
       "3                          5           1  \n",
       "4                          2           1  "
      ]
     },
     "execution_count": 30,
     "metadata": {},
     "output_type": "execute_result"
    }
   ],
   "source": [
    "df.head()"
   ]
  },
  {
   "cell_type": "code",
   "execution_count": 31,
   "id": "ae0d3897",
   "metadata": {},
   "outputs": [
    {
     "data": {
      "text/plain": [
       "PaymentTier\n",
       "1    0.366255\n",
       "2    0.599129\n",
       "3    0.275200\n",
       "Name: LeaveOrNot, dtype: float64"
      ]
     },
     "execution_count": 31,
     "metadata": {},
     "output_type": "execute_result"
    }
   ],
   "source": [
    "df.groupby(['PaymentTier']).LeaveOrNot.mean()"
   ]
  },
  {
   "cell_type": "code",
   "execution_count": 32,
   "id": "ec005ea6",
   "metadata": {},
   "outputs": [],
   "source": [
    "# Insight - workers with middle level of salary leaves much offen"
   ]
  },
  {
   "cell_type": "code",
   "execution_count": 33,
   "id": "1597280d",
   "metadata": {},
   "outputs": [
    {
     "data": {
      "text/plain": [
       "Text(0.5, 1.0, 'Dependence LeaveOrNot on PaymentTier')"
      ]
     },
     "execution_count": 33,
     "metadata": {},
     "output_type": "execute_result"
    },
    {
     "data": {
      "image/png": "[encoded data removed]",
      "text/plain": [
       "<Figure size 432x288 with 1 Axes>"
      ]
     },
     "metadata": {
      "needs_background": "light"
     },
     "output_type": "display_data"
    }
   ],
   "source": [
    "bar(x = ['1', '2' ,'3'], height = df.groupby(['PaymentTier']).LeaveOrNot.mean().values)\n",
    "plt.ylabel(\"LeaveOrNot part\")\n",
    "plt.title(label = \"Dependence LeaveOrNot on PaymentTier\")"
   ]
  },
  {
   "cell_type": "code",
   "execution_count": 34,
   "id": "25ef4ea3",
   "metadata": {},
   "outputs": [
    {
     "data": {
      "text/plain": [
       "PaymentTier  Education\n",
       "1            Bachelors    0.387283\n",
       "             Masters      0.339286\n",
       "             PHD          0.214286\n",
       "2            Bachelors    0.720074\n",
       "             Masters      0.428169\n",
       "             PHD          0.350000\n",
       "3            Bachelors    0.232582\n",
       "             Masters      0.551948\n",
       "             PHD          0.241379\n",
       "Name: LeaveOrNot, dtype: float64"
      ]
     },
     "execution_count": 34,
     "metadata": {},
     "output_type": "execute_result"
    }
   ],
   "source": [
    "df.groupby(['PaymentTier', 'Education']).LeaveOrNot.mean()"
   ]
  },
  {
   "cell_type": "code",
   "execution_count": 35,
   "id": "f3a549a5",
   "metadata": {},
   "outputs": [],
   "source": [
    "#Insight Bachelors with 2level salary and Masters with 3level salary leaves anomaly more offen"
   ]
  },
  {
   "cell_type": "code",
   "execution_count": 36,
   "id": "173e0c12",
   "metadata": {},
   "outputs": [
    {
     "data": {
      "text/plain": [
       "Text(0.5, 1.0, 'Dependence LeaveOrNot on PaymentTier and Education')"
      ]
     },
     "execution_count": 36,
     "metadata": {},
     "output_type": "execute_result"
    },
    {
     "data": {
      "image/png": "[encoded data removed]",
      "text/plain": [
       "<Figure size 1440x480 with 1 Axes>"
      ]
     },
     "metadata": {
      "needs_background": "light"
     },
     "output_type": "display_data"
    }
   ],
   "source": [
    "colors = ['#0B6E4F','#0B6E4F','#0B6E4F', '#FA9F42','#FA9F42','#FA9F42', '#2B4162','#2B4162','#2B4162']\n",
    "groups = list(df.groupby(['PaymentTier', 'Education']).groups)\n",
    "for i in range(len(groups)):\n",
    "    groups[i] = str(groups[i][0]) + ' ' + str(groups[i][1])\n",
    "figure(figsize=(18, 6), dpi=80)\n",
    "bar(x = groups, height = df.groupby(['PaymentTier', 'Education']).LeaveOrNot.mean().values, color = colors)\n",
    "plt.ylabel(\"LeaveOrNot part\")\n",
    "plt.title(label = \"Dependence LeaveOrNot on PaymentTier and Education\")"
   ]
  },
  {
   "cell_type": "code",
   "execution_count": 37,
   "id": "fcc22af1",
   "metadata": {},
   "outputs": [
    {
     "data": {
      "text/plain": [
       "PaymentTier  Education\n",
       "1            Bachelors     173\n",
       "             Masters        56\n",
       "             PHD            14\n",
       "2            Bachelors     543\n",
       "             Masters       355\n",
       "             PHD            20\n",
       "3            Bachelors    2885\n",
       "             Masters       462\n",
       "             PHD           145\n",
       "Name: LeaveOrNot, dtype: int64"
      ]
     },
     "execution_count": 37,
     "metadata": {},
     "output_type": "execute_result"
    }
   ],
   "source": [
    "df.groupby(['PaymentTier', 'Education']).LeaveOrNot.count()"
   ]
  },
  {
   "cell_type": "code",
   "execution_count": 38,
   "id": "478f5034",
   "metadata": {},
   "outputs": [
    {
     "data": {
      "text/plain": [
       "PaymentTier  City     \n",
       "1            Bangalore    0.178571\n",
       "             New Delhi    0.357143\n",
       "             Pune         0.653333\n",
       "2            Bangalore    0.707692\n",
       "             New Delhi    0.376771\n",
       "             Pune         0.742000\n",
       "3            Bangalore    0.257923\n",
       "             New Delhi    0.284759\n",
       "             Pune         0.316017\n",
       "Name: LeaveOrNot, dtype: float64"
      ]
     },
     "execution_count": 38,
     "metadata": {},
     "output_type": "execute_result"
    }
   ],
   "source": [
    "df.groupby(['PaymentTier', 'City']).LeaveOrNot.mean()"
   ]
  },
  {
   "cell_type": "code",
   "execution_count": 39,
   "id": "a3b5dfbc",
   "metadata": {},
   "outputs": [],
   "source": [
    "# Insight - 2level salary workers in Bangalore and Pune and 1level salary workers in Pune leaves much offen"
   ]
  },
  {
   "cell_type": "code",
   "execution_count": 40,
   "id": "534379db",
   "metadata": {},
   "outputs": [
    {
     "data": {
      "text/plain": [
       "Text(0.5, 1.0, \"Dependence PaymentTier on City(office's placement)\")"
      ]
     },
     "execution_count": 40,
     "metadata": {},
     "output_type": "execute_result"
    },
    {
     "data": {
      "image/png": "[encoded data removed]",
      "text/plain": [
       "<Figure size 1440x480 with 1 Axes>"
      ]
     },
     "metadata": {
      "needs_background": "light"
     },
     "output_type": "display_data"
    }
   ],
   "source": [
    "colors = ['#0B6E4F','#0B6E4F','#0B6E4F', '#FA9F42','#FA9F42','#FA9F42', '#2B4162','#2B4162','#2B4162']\n",
    "groups = list(df.groupby(['PaymentTier', 'City']).groups)\n",
    "for i in range(len(groups)):\n",
    "    groups[i] = str(groups[i][0]) + ' ' + str(groups[i][1])\n",
    "figure(figsize=(18, 6), dpi=80)\n",
    "bar(x = groups, height = df.groupby(['PaymentTier', 'City']).LeaveOrNot.mean().values, color = colors)\n",
    "plt.ylabel(\"LeaveOrNot part\")\n",
    "plt.title(label = \"Dependence PaymentTier on City(office's placement)\")"
   ]
  },
  {
   "cell_type": "code",
   "execution_count": 41,
   "id": "da1769c8",
   "metadata": {},
   "outputs": [
    {
     "data": {
      "text/plain": [
       "PaymentTier  City     \n",
       "1            Bangalore     112\n",
       "             New Delhi      56\n",
       "             Pune           75\n",
       "2            Bangalore      65\n",
       "             New Delhi     353\n",
       "             Pune          500\n",
       "3            Bangalore    2051\n",
       "             New Delhi     748\n",
       "             Pune          693\n",
       "Name: LeaveOrNot, dtype: int64"
      ]
     },
     "execution_count": 41,
     "metadata": {},
     "output_type": "execute_result"
    }
   ],
   "source": [
    "df.groupby(['PaymentTier', 'City']).LeaveOrNot.count()"
   ]
  },
  {
   "cell_type": "code",
   "execution_count": 42,
   "id": "87d27339",
   "metadata": {},
   "outputs": [
    {
     "data": {
      "text/plain": [
       "PaymentTier  EverBenched\n",
       "1            No             0.355556\n",
       "             Yes            0.500000\n",
       "2            No             0.575758\n",
       "             Yes            0.806452\n",
       "3            No             0.264960\n",
       "             Yes            0.362398\n",
       "Name: LeaveOrNot, dtype: float64"
      ]
     },
     "execution_count": 42,
     "metadata": {},
     "output_type": "execute_result"
    }
   ],
   "source": [
    "df.groupby(['PaymentTier', 'EverBenched']).LeaveOrNot.mean()"
   ]
  },
  {
   "cell_type": "code",
   "execution_count": 43,
   "id": "2eca4ee0",
   "metadata": {},
   "outputs": [],
   "source": [
    "# Insight - people with 2 level salary more sensitive to benching"
   ]
  },
  {
   "cell_type": "code",
   "execution_count": 44,
   "id": "c2727855",
   "metadata": {},
   "outputs": [
    {
     "data": {
      "text/plain": [
       "Text(0.5, 1.0, 'Dependence LeaveOrNot on PaymentTier and EverBenched')"
      ]
     },
     "execution_count": 44,
     "metadata": {},
     "output_type": "execute_result"
    },
    {
     "data": {
      "image/png": "[encoded data removed]",
      "text/plain": [
       "<Figure size 1440x480 with 1 Axes>"
      ]
     },
     "metadata": {
      "needs_background": "light"
     },
     "output_type": "display_data"
    }
   ],
   "source": [
    "colors = ['#0B6E4F','#0B6E4F', '#FA9F42','#FA9F42', '#2B4162','#2B4162']\n",
    "groups = list(df.groupby(['PaymentTier', 'EverBenched']).groups)\n",
    "for i in range(len(groups)):\n",
    "    groups[i] = str(groups[i][0]) + ' ' + str(groups[i][1])\n",
    "figure(figsize=(18, 6), dpi=80)\n",
    "bar(x = groups, height = df.groupby(['PaymentTier', 'EverBenched']).LeaveOrNot.mean().values, color = colors)\n",
    "plt.ylabel(\"LeaveOrNot part\")\n",
    "plt.title(label = \"Dependence LeaveOrNot on PaymentTier and EverBenched\")"
   ]
  },
  {
   "cell_type": "code",
   "execution_count": 45,
   "id": "8d31c409",
   "metadata": {},
   "outputs": [
    {
     "data": {
      "text/plain": [
       "PaymentTier  EverBenched\n",
       "1            No              225\n",
       "             Yes              18\n",
       "2            No              825\n",
       "             Yes              93\n",
       "3            No             3125\n",
       "             Yes             367\n",
       "Name: LeaveOrNot, dtype: int64"
      ]
     },
     "execution_count": 45,
     "metadata": {},
     "output_type": "execute_result"
    }
   ],
   "source": [
    "df.groupby(['PaymentTier', 'EverBenched']).LeaveOrNot.count()"
   ]
  },
  {
   "cell_type": "code",
   "execution_count": null,
   "id": "f197dd07",
   "metadata": {},
   "outputs": [],
   "source": []
  },
  {
   "cell_type": "code",
   "execution_count": 46,
   "id": "6751b175",
   "metadata": {},
   "outputs": [],
   "source": [
    "#Let's build logistic regression"
   ]
  },
  {
   "cell_type": "code",
   "execution_count": 47,
   "id": "8c441e53",
   "metadata": {},
   "outputs": [],
   "source": [
    "# Some basic preprocessing"
   ]
  },
  {
   "cell_type": "code",
   "execution_count": 48,
   "id": "ac173490",
   "metadata": {},
   "outputs": [
    {
     "data": {
      "text/html": [
       "<div>\n",
       "<style scoped>\n",
       "    .dataframe tbody tr th:only-of-type {\n",
       "        vertical-align: middle;\n",
       "    }\n",
       "\n",
       "    .dataframe tbody tr th {\n",
       "        vertical-align: top;\n",
       "    }\n",
       "\n",
       "    .dataframe thead th {\n",
       "        text-align: right;\n",
       "    }\n",
       "</style>\n",
       "<table border=\"1\" class=\"dataframe\">\n",
       "  <thead>\n",
       "    <tr style=\"text-align: right;\">\n",
       "      <th></th>\n",
       "      <th>Education</th>\n",
       "      <th>JoiningYear</th>\n",
       "      <th>City</th>\n",
       "      <th>PaymentTier</th>\n",
       "      <th>Age</th>\n",
       "      <th>Gender</th>\n",
       "      <th>EverBenched</th>\n",
       "      <th>ExperienceInCurrentDomain</th>\n",
       "      <th>LeaveOrNot</th>\n",
       "    </tr>\n",
       "  </thead>\n",
       "  <tbody>\n",
       "    <tr>\n",
       "      <th>0</th>\n",
       "      <td>Bachelors</td>\n",
       "      <td>2017</td>\n",
       "      <td>Bangalore</td>\n",
       "      <td>3</td>\n",
       "      <td>34</td>\n",
       "      <td>Male</td>\n",
       "      <td>No</td>\n",
       "      <td>0</td>\n",
       "      <td>0</td>\n",
       "    </tr>\n",
       "    <tr>\n",
       "      <th>1</th>\n",
       "      <td>Bachelors</td>\n",
       "      <td>2013</td>\n",
       "      <td>Pune</td>\n",
       "      <td>1</td>\n",
       "      <td>28</td>\n",
       "      <td>Female</td>\n",
       "      <td>No</td>\n",
       "      <td>3</td>\n",
       "      <td>1</td>\n",
       "    </tr>\n",
       "    <tr>\n",
       "      <th>2</th>\n",
       "      <td>Bachelors</td>\n",
       "      <td>2014</td>\n",
       "      <td>New Delhi</td>\n",
       "      <td>3</td>\n",
       "      <td>38</td>\n",
       "      <td>Female</td>\n",
       "      <td>No</td>\n",
       "      <td>2</td>\n",
       "      <td>0</td>\n",
       "    </tr>\n",
       "    <tr>\n",
       "      <th>3</th>\n",
       "      <td>Masters</td>\n",
       "      <td>2016</td>\n",
       "      <td>Bangalore</td>\n",
       "      <td>3</td>\n",
       "      <td>27</td>\n",
       "      <td>Male</td>\n",
       "      <td>No</td>\n",
       "      <td>5</td>\n",
       "      <td>1</td>\n",
       "    </tr>\n",
       "    <tr>\n",
       "      <th>4</th>\n",
       "      <td>Masters</td>\n",
       "      <td>2017</td>\n",
       "      <td>Pune</td>\n",
       "      <td>3</td>\n",
       "      <td>24</td>\n",
       "      <td>Male</td>\n",
       "      <td>Yes</td>\n",
       "      <td>2</td>\n",
       "      <td>1</td>\n",
       "    </tr>\n",
       "  </tbody>\n",
       "</table>\n",
       "</div>"
      ],
      "text/plain": [
       "   Education  JoiningYear       City  PaymentTier  Age  Gender EverBenched  \\\n",
       "0  Bachelors         2017  Bangalore            3   34    Male          No   \n",
       "1  Bachelors         2013       Pune            1   28  Female          No   \n",
       "2  Bachelors         2014  New Delhi            3   38  Female          No   \n",
       "3    Masters         2016  Bangalore            3   27    Male          No   \n",
       "4    Masters         2017       Pune            3   24    Male         Yes   \n",
       "\n",
       "   ExperienceInCurrentDomain  LeaveOrNot  \n",
       "0                          0           0  \n",
       "1                          3           1  \n",
       "2                          2           0  \n",
       "3                          5           1  \n",
       "4                          2           1  "
      ]
     },
     "execution_count": 48,
     "metadata": {},
     "output_type": "execute_result"
    }
   ],
   "source": [
    "df.head()"
   ]
  },
  {
   "cell_type": "code",
   "execution_count": 49,
   "id": "d86b5c64",
   "metadata": {},
   "outputs": [],
   "source": [
    "df['TimeTogether'] = 2022 - df.JoiningYear"
   ]
  },
  {
   "cell_type": "code",
   "execution_count": 50,
   "id": "0a51ffbc",
   "metadata": {},
   "outputs": [],
   "source": [
    "df['Gender'] = df.Gender.astype('category')"
   ]
  },
  {
   "cell_type": "code",
   "execution_count": 51,
   "id": "b609581c",
   "metadata": {},
   "outputs": [
    {
     "data": {
      "text/plain": [
       "Index(['Female', 'Male'], dtype='object')"
      ]
     },
     "execution_count": 51,
     "metadata": {},
     "output_type": "execute_result"
    }
   ],
   "source": [
    "df.Gender.cat.categories"
   ]
  },
  {
   "cell_type": "code",
   "execution_count": 52,
   "id": "f3d5d52f",
   "metadata": {},
   "outputs": [],
   "source": [
    "df['Gender'] = df.Gender.cat.codes"
   ]
  },
  {
   "cell_type": "code",
   "execution_count": 53,
   "id": "9c5cfa10",
   "metadata": {},
   "outputs": [],
   "source": [
    "df['EverBenched'] = df.EverBenched.astype('category')"
   ]
  },
  {
   "cell_type": "code",
   "execution_count": 54,
   "id": "cef520b2",
   "metadata": {},
   "outputs": [
    {
     "data": {
      "text/plain": [
       "Index(['No', 'Yes'], dtype='object')"
      ]
     },
     "execution_count": 54,
     "metadata": {},
     "output_type": "execute_result"
    }
   ],
   "source": [
    "df.EverBenched.cat.categories"
   ]
  },
  {
   "cell_type": "code",
   "execution_count": 55,
   "id": "e3ef4d31",
   "metadata": {},
   "outputs": [],
   "source": [
    "df['EverBenched'] = df.EverBenched.cat.codes"
   ]
  },
  {
   "cell_type": "code",
   "execution_count": 56,
   "id": "bf2f5c7a",
   "metadata": {},
   "outputs": [
    {
     "data": {
      "text/html": [
       "<div>\n",
       "<style scoped>\n",
       "    .dataframe tbody tr th:only-of-type {\n",
       "        vertical-align: middle;\n",
       "    }\n",
       "\n",
       "    .dataframe tbody tr th {\n",
       "        vertical-align: top;\n",
       "    }\n",
       "\n",
       "    .dataframe thead th {\n",
       "        text-align: right;\n",
       "    }\n",
       "</style>\n",
       "<table border=\"1\" class=\"dataframe\">\n",
       "  <thead>\n",
       "    <tr style=\"text-align: right;\">\n",
       "      <th></th>\n",
       "      <th>Bachelors</th>\n",
       "      <th>Masters</th>\n",
       "      <th>PHD</th>\n",
       "    </tr>\n",
       "  </thead>\n",
       "  <tbody>\n",
       "    <tr>\n",
       "      <th>0</th>\n",
       "      <td>1</td>\n",
       "      <td>0</td>\n",
       "      <td>0</td>\n",
       "    </tr>\n",
       "    <tr>\n",
       "      <th>1</th>\n",
       "      <td>1</td>\n",
       "      <td>0</td>\n",
       "      <td>0</td>\n",
       "    </tr>\n",
       "    <tr>\n",
       "      <th>2</th>\n",
       "      <td>1</td>\n",
       "      <td>0</td>\n",
       "      <td>0</td>\n",
       "    </tr>\n",
       "    <tr>\n",
       "      <th>3</th>\n",
       "      <td>0</td>\n",
       "      <td>1</td>\n",
       "      <td>0</td>\n",
       "    </tr>\n",
       "    <tr>\n",
       "      <th>4</th>\n",
       "      <td>0</td>\n",
       "      <td>1</td>\n",
       "      <td>0</td>\n",
       "    </tr>\n",
       "    <tr>\n",
       "      <th>...</th>\n",
       "      <td>...</td>\n",
       "      <td>...</td>\n",
       "      <td>...</td>\n",
       "    </tr>\n",
       "    <tr>\n",
       "      <th>4648</th>\n",
       "      <td>1</td>\n",
       "      <td>0</td>\n",
       "      <td>0</td>\n",
       "    </tr>\n",
       "    <tr>\n",
       "      <th>4649</th>\n",
       "      <td>0</td>\n",
       "      <td>1</td>\n",
       "      <td>0</td>\n",
       "    </tr>\n",
       "    <tr>\n",
       "      <th>4650</th>\n",
       "      <td>0</td>\n",
       "      <td>1</td>\n",
       "      <td>0</td>\n",
       "    </tr>\n",
       "    <tr>\n",
       "      <th>4651</th>\n",
       "      <td>1</td>\n",
       "      <td>0</td>\n",
       "      <td>0</td>\n",
       "    </tr>\n",
       "    <tr>\n",
       "      <th>4652</th>\n",
       "      <td>1</td>\n",
       "      <td>0</td>\n",
       "      <td>0</td>\n",
       "    </tr>\n",
       "  </tbody>\n",
       "</table>\n",
       "<p>4653 rows × 3 columns</p>\n",
       "</div>"
      ],
      "text/plain": [
       "      Bachelors  Masters  PHD\n",
       "0             1        0    0\n",
       "1             1        0    0\n",
       "2             1        0    0\n",
       "3             0        1    0\n",
       "4             0        1    0\n",
       "...         ...      ...  ...\n",
       "4648          1        0    0\n",
       "4649          0        1    0\n",
       "4650          0        1    0\n",
       "4651          1        0    0\n",
       "4652          1        0    0\n",
       "\n",
       "[4653 rows x 3 columns]"
      ]
     },
     "execution_count": 56,
     "metadata": {},
     "output_type": "execute_result"
    }
   ],
   "source": [
    "pd.get_dummies(df.Education)"
   ]
  },
  {
   "cell_type": "code",
   "execution_count": 57,
   "id": "34b60bdb",
   "metadata": {},
   "outputs": [],
   "source": [
    "df = df.join(pd.get_dummies(df.Education, prefix='Education'))"
   ]
  },
  {
   "cell_type": "code",
   "execution_count": 58,
   "id": "3ca6dfef",
   "metadata": {},
   "outputs": [],
   "source": [
    "df = df.drop('Education', axis = 1)"
   ]
  },
  {
   "cell_type": "code",
   "execution_count": 59,
   "id": "486a225e",
   "metadata": {},
   "outputs": [
    {
     "data": {
      "text/html": [
       "<div>\n",
       "<style scoped>\n",
       "    .dataframe tbody tr th:only-of-type {\n",
       "        vertical-align: middle;\n",
       "    }\n",
       "\n",
       "    .dataframe tbody tr th {\n",
       "        vertical-align: top;\n",
       "    }\n",
       "\n",
       "    .dataframe thead th {\n",
       "        text-align: right;\n",
       "    }\n",
       "</style>\n",
       "<table border=\"1\" class=\"dataframe\">\n",
       "  <thead>\n",
       "    <tr style=\"text-align: right;\">\n",
       "      <th></th>\n",
       "      <th>JoiningYear</th>\n",
       "      <th>City</th>\n",
       "      <th>PaymentTier</th>\n",
       "      <th>Age</th>\n",
       "      <th>Gender</th>\n",
       "      <th>EverBenched</th>\n",
       "      <th>ExperienceInCurrentDomain</th>\n",
       "      <th>LeaveOrNot</th>\n",
       "      <th>TimeTogether</th>\n",
       "      <th>Education_Bachelors</th>\n",
       "      <th>Education_Masters</th>\n",
       "      <th>Education_PHD</th>\n",
       "    </tr>\n",
       "  </thead>\n",
       "  <tbody>\n",
       "    <tr>\n",
       "      <th>0</th>\n",
       "      <td>2017</td>\n",
       "      <td>Bangalore</td>\n",
       "      <td>3</td>\n",
       "      <td>34</td>\n",
       "      <td>1</td>\n",
       "      <td>0</td>\n",
       "      <td>0</td>\n",
       "      <td>0</td>\n",
       "      <td>5</td>\n",
       "      <td>1</td>\n",
       "      <td>0</td>\n",
       "      <td>0</td>\n",
       "    </tr>\n",
       "    <tr>\n",
       "      <th>1</th>\n",
       "      <td>2013</td>\n",
       "      <td>Pune</td>\n",
       "      <td>1</td>\n",
       "      <td>28</td>\n",
       "      <td>0</td>\n",
       "      <td>0</td>\n",
       "      <td>3</td>\n",
       "      <td>1</td>\n",
       "      <td>9</td>\n",
       "      <td>1</td>\n",
       "      <td>0</td>\n",
       "      <td>0</td>\n",
       "    </tr>\n",
       "    <tr>\n",
       "      <th>2</th>\n",
       "      <td>2014</td>\n",
       "      <td>New Delhi</td>\n",
       "      <td>3</td>\n",
       "      <td>38</td>\n",
       "      <td>0</td>\n",
       "      <td>0</td>\n",
       "      <td>2</td>\n",
       "      <td>0</td>\n",
       "      <td>8</td>\n",
       "      <td>1</td>\n",
       "      <td>0</td>\n",
       "      <td>0</td>\n",
       "    </tr>\n",
       "    <tr>\n",
       "      <th>3</th>\n",
       "      <td>2016</td>\n",
       "      <td>Bangalore</td>\n",
       "      <td>3</td>\n",
       "      <td>27</td>\n",
       "      <td>1</td>\n",
       "      <td>0</td>\n",
       "      <td>5</td>\n",
       "      <td>1</td>\n",
       "      <td>6</td>\n",
       "      <td>0</td>\n",
       "      <td>1</td>\n",
       "      <td>0</td>\n",
       "    </tr>\n",
       "    <tr>\n",
       "      <th>4</th>\n",
       "      <td>2017</td>\n",
       "      <td>Pune</td>\n",
       "      <td>3</td>\n",
       "      <td>24</td>\n",
       "      <td>1</td>\n",
       "      <td>1</td>\n",
       "      <td>2</td>\n",
       "      <td>1</td>\n",
       "      <td>5</td>\n",
       "      <td>0</td>\n",
       "      <td>1</td>\n",
       "      <td>0</td>\n",
       "    </tr>\n",
       "  </tbody>\n",
       "</table>\n",
       "</div>"
      ],
      "text/plain": [
       "   JoiningYear       City  PaymentTier  Age  Gender  EverBenched  \\\n",
       "0         2017  Bangalore            3   34       1            0   \n",
       "1         2013       Pune            1   28       0            0   \n",
       "2         2014  New Delhi            3   38       0            0   \n",
       "3         2016  Bangalore            3   27       1            0   \n",
       "4         2017       Pune            3   24       1            1   \n",
       "\n",
       "   ExperienceInCurrentDomain  LeaveOrNot  TimeTogether  Education_Bachelors  \\\n",
       "0                          0           0             5                    1   \n",
       "1                          3           1             9                    1   \n",
       "2                          2           0             8                    1   \n",
       "3                          5           1             6                    0   \n",
       "4                          2           1             5                    0   \n",
       "\n",
       "   Education_Masters  Education_PHD  \n",
       "0                  0              0  \n",
       "1                  0              0  \n",
       "2                  0              0  \n",
       "3                  1              0  \n",
       "4                  1              0  "
      ]
     },
     "execution_count": 59,
     "metadata": {},
     "output_type": "execute_result"
    }
   ],
   "source": [
    "df.head()"
   ]
  },
  {
   "cell_type": "code",
   "execution_count": 60,
   "id": "2a8f7db9",
   "metadata": {},
   "outputs": [],
   "source": [
    "df = df.join(pd.get_dummies(df.City, prefix='City'))"
   ]
  },
  {
   "cell_type": "code",
   "execution_count": 61,
   "id": "d5fdb434",
   "metadata": {},
   "outputs": [],
   "source": [
    "df = df.drop('City', axis = 1)"
   ]
  },
  {
   "cell_type": "code",
   "execution_count": 62,
   "id": "b04f54bf",
   "metadata": {},
   "outputs": [],
   "source": [
    "# Scaling numeric features"
   ]
  },
  {
   "cell_type": "code",
   "execution_count": 63,
   "id": "c56eae30",
   "metadata": {},
   "outputs": [],
   "source": [
    "from sklearn.preprocessing import MinMaxScaler"
   ]
  },
  {
   "cell_type": "code",
   "execution_count": 64,
   "id": "ba89e2ab",
   "metadata": {},
   "outputs": [],
   "source": [
    "yearScaler = MinMaxScaler()\n",
    "yearScaler.fit(df.JoiningYear.to_numpy().reshape(-1, 1))\n",
    "df['JoiningYear'] = yearScaler.transform(df.JoiningYear.to_numpy().reshape(-1, 1)).T[0]"
   ]
  },
  {
   "cell_type": "code",
   "execution_count": 65,
   "id": "b64398a3",
   "metadata": {},
   "outputs": [],
   "source": [
    "ageScaler = MinMaxScaler()\n",
    "ageScaler.fit(df.Age.to_numpy().reshape(-1, 1))\n",
    "df['Age'] = ageScaler.transform(df.Age.to_numpy().reshape(-1, 1))"
   ]
  },
  {
   "cell_type": "code",
   "execution_count": 66,
   "id": "d5bc0bb8",
   "metadata": {},
   "outputs": [],
   "source": [
    "# Train/test split"
   ]
  },
  {
   "cell_type": "code",
   "execution_count": 67,
   "id": "ffbc9ebe",
   "metadata": {},
   "outputs": [],
   "source": [
    "X = df.drop('LeaveOrNot', axis = 1)\n",
    "y = df.LeaveOrNot"
   ]
  },
  {
   "cell_type": "code",
   "execution_count": 68,
   "id": "41e3ffe6",
   "metadata": {},
   "outputs": [],
   "source": [
    "from sklearn.model_selection import train_test_split"
   ]
  },
  {
   "cell_type": "code",
   "execution_count": 69,
   "id": "377dc319",
   "metadata": {},
   "outputs": [],
   "source": [
    "X_train, X_test, y_train, y_test = train_test_split(X, y, test_size = 1000, random_state = 42)"
   ]
  },
  {
   "cell_type": "code",
   "execution_count": 70,
   "id": "25fc317b",
   "metadata": {},
   "outputs": [],
   "source": [
    "# Logistic Regression"
   ]
  },
  {
   "cell_type": "code",
   "execution_count": 71,
   "id": "fb4faccf",
   "metadata": {},
   "outputs": [],
   "source": [
    "from sklearn.linear_model import LogisticRegression"
   ]
  },
  {
   "cell_type": "code",
   "execution_count": 72,
   "id": "7f68a6c4",
   "metadata": {},
   "outputs": [
    {
     "data": {
      "text/plain": [
       "0.7339173282233781"
      ]
     },
     "execution_count": 72,
     "metadata": {},
     "output_type": "execute_result"
    }
   ],
   "source": [
    "log = LogisticRegression(max_iter = 10000)\n",
    "log.fit(X_train, y_train)\n",
    "log.score(X_train, y_train)"
   ]
  },
  {
   "cell_type": "code",
   "execution_count": 73,
   "id": "66f4712e",
   "metadata": {},
   "outputs": [
    {
     "data": {
      "text/plain": [
       "0.749"
      ]
     },
     "execution_count": 73,
     "metadata": {},
     "output_type": "execute_result"
    }
   ],
   "source": [
    "log.score(X_test, y_test)"
   ]
  },
  {
   "cell_type": "code",
   "execution_count": 74,
   "id": "ddf7cd00",
   "metadata": {},
   "outputs": [],
   "source": [
    "from sklearn.metrics import f1_score\n",
    "from sklearn.metrics import precision_score\n",
    "from sklearn.metrics import roc_auc_score"
   ]
  },
  {
   "cell_type": "code",
   "execution_count": 75,
   "id": "36ea3ee4",
   "metadata": {},
   "outputs": [
    {
     "name": "stdout",
     "output_type": "stream",
     "text": [
      "Train_set:\n",
      "f1: 0.5154536390827517\n",
      "precision_score: 0.693029490616622\n",
      "roc_auc_score: 0.6573108404805019\n",
      "\n",
      "\n",
      "Test_set:\n",
      "f1: 0.5394495412844037\n",
      "precision_score: 0.7170731707317073\n",
      "roc_auc_score: 0.6722370766488414\n"
     ]
    }
   ],
   "source": [
    "y_train_pred = log.predict(X_train)\n",
    "y_test_pred = log.predict(X_test)\n",
    "print('Train_set:')\n",
    "print('f1:', f1_score(y_train, y_train_pred))\n",
    "print('precision_score:', precision_score(y_train, y_train_pred))\n",
    "print('roc_auc_score:', roc_auc_score(y_train, y_train_pred))\n",
    "print('\\n\\nTest_set:')\n",
    "print('f1:', f1_score(y_test, y_test_pred))\n",
    "print('precision_score:', precision_score(y_test, y_test_pred))\n",
    "print('roc_auc_score:', roc_auc_score(y_test, y_test_pred))"
   ]
  },
  {
   "cell_type": "code",
   "execution_count": 76,
   "id": "895f9a79",
   "metadata": {},
   "outputs": [],
   "source": [
    "# Let's look on feature importance"
   ]
  },
  {
   "cell_type": "code",
   "execution_count": 77,
   "id": "ca0c71dd",
   "metadata": {},
   "outputs": [
    {
     "data": {
      "text/html": [
       "<div>\n",
       "<style scoped>\n",
       "    .dataframe tbody tr th:only-of-type {\n",
       "        vertical-align: middle;\n",
       "    }\n",
       "\n",
       "    .dataframe tbody tr th {\n",
       "        vertical-align: top;\n",
       "    }\n",
       "\n",
       "    .dataframe thead th {\n",
       "        text-align: right;\n",
       "    }\n",
       "</style>\n",
       "<table border=\"1\" class=\"dataframe\">\n",
       "  <thead>\n",
       "    <tr style=\"text-align: right;\">\n",
       "      <th></th>\n",
       "      <th>colum</th>\n",
       "      <th>coef</th>\n",
       "      <th>coef_abs</th>\n",
       "    </tr>\n",
       "  </thead>\n",
       "  <tbody>\n",
       "    <tr>\n",
       "      <th>0</th>\n",
       "      <td>JoiningYear</td>\n",
       "      <td>0.033559</td>\n",
       "      <td>0.033559</td>\n",
       "    </tr>\n",
       "    <tr>\n",
       "      <th>1</th>\n",
       "      <td>PaymentTier</td>\n",
       "      <td>-0.323538</td>\n",
       "      <td>0.323538</td>\n",
       "    </tr>\n",
       "    <tr>\n",
       "      <th>2</th>\n",
       "      <td>Age</td>\n",
       "      <td>-0.349341</td>\n",
       "      <td>0.349341</td>\n",
       "    </tr>\n",
       "    <tr>\n",
       "      <th>3</th>\n",
       "      <td>Gender</td>\n",
       "      <td>-0.890960</td>\n",
       "      <td>0.890960</td>\n",
       "    </tr>\n",
       "    <tr>\n",
       "      <th>4</th>\n",
       "      <td>EverBenched</td>\n",
       "      <td>0.552263</td>\n",
       "      <td>0.552263</td>\n",
       "    </tr>\n",
       "    <tr>\n",
       "      <th>5</th>\n",
       "      <td>ExperienceInCurrentDomain</td>\n",
       "      <td>-0.044467</td>\n",
       "      <td>0.044467</td>\n",
       "    </tr>\n",
       "    <tr>\n",
       "      <th>6</th>\n",
       "      <td>TimeTogether</td>\n",
       "      <td>-0.190692</td>\n",
       "      <td>0.190692</td>\n",
       "    </tr>\n",
       "    <tr>\n",
       "      <th>7</th>\n",
       "      <td>Education_Bachelors</td>\n",
       "      <td>-0.256701</td>\n",
       "      <td>0.256701</td>\n",
       "    </tr>\n",
       "    <tr>\n",
       "      <th>8</th>\n",
       "      <td>Education_Masters</td>\n",
       "      <td>0.462305</td>\n",
       "      <td>0.462305</td>\n",
       "    </tr>\n",
       "    <tr>\n",
       "      <th>9</th>\n",
       "      <td>Education_PHD</td>\n",
       "      <td>-0.204538</td>\n",
       "      <td>0.204538</td>\n",
       "    </tr>\n",
       "    <tr>\n",
       "      <th>10</th>\n",
       "      <td>City_Bangalore</td>\n",
       "      <td>-0.083702</td>\n",
       "      <td>0.083702</td>\n",
       "    </tr>\n",
       "    <tr>\n",
       "      <th>11</th>\n",
       "      <td>City_New Delhi</td>\n",
       "      <td>-0.564088</td>\n",
       "      <td>0.564088</td>\n",
       "    </tr>\n",
       "    <tr>\n",
       "      <th>12</th>\n",
       "      <td>City_Pune</td>\n",
       "      <td>0.648856</td>\n",
       "      <td>0.648856</td>\n",
       "    </tr>\n",
       "  </tbody>\n",
       "</table>\n",
       "</div>"
      ],
      "text/plain": [
       "                        colum      coef  coef_abs\n",
       "0                 JoiningYear  0.033559  0.033559\n",
       "1                 PaymentTier -0.323538  0.323538\n",
       "2                         Age -0.349341  0.349341\n",
       "3                      Gender -0.890960  0.890960\n",
       "4                 EverBenched  0.552263  0.552263\n",
       "5   ExperienceInCurrentDomain -0.044467  0.044467\n",
       "6                TimeTogether -0.190692  0.190692\n",
       "7         Education_Bachelors -0.256701  0.256701\n",
       "8           Education_Masters  0.462305  0.462305\n",
       "9               Education_PHD -0.204538  0.204538\n",
       "10             City_Bangalore -0.083702  0.083702\n",
       "11             City_New Delhi -0.564088  0.564088\n",
       "12                  City_Pune  0.648856  0.648856"
      ]
     },
     "execution_count": 77,
     "metadata": {},
     "output_type": "execute_result"
    }
   ],
   "source": [
    "coefs = pd.DataFrame(columns = ['colum', 'coef', 'coef_abs'])\n",
    "for i in range(len(X_train.columns)):\n",
    "    coefs = coefs.append({'colum' : X_train.columns[i], 'coef' : log.coef_[0][i], 'coef_abs' : abs(log.coef_[0][i])}, ignore_index=True)\n",
    "coefs"
   ]
  },
  {
   "cell_type": "code",
   "execution_count": 78,
   "id": "4c1696e9",
   "metadata": {},
   "outputs": [
    {
     "data": {
      "text/html": [
       "<div>\n",
       "<style scoped>\n",
       "    .dataframe tbody tr th:only-of-type {\n",
       "        vertical-align: middle;\n",
       "    }\n",
       "\n",
       "    .dataframe tbody tr th {\n",
       "        vertical-align: top;\n",
       "    }\n",
       "\n",
       "    .dataframe thead th {\n",
       "        text-align: right;\n",
       "    }\n",
       "</style>\n",
       "<table border=\"1\" class=\"dataframe\">\n",
       "  <thead>\n",
       "    <tr style=\"text-align: right;\">\n",
       "      <th></th>\n",
       "      <th>colum</th>\n",
       "      <th>coef</th>\n",
       "      <th>coef_abs</th>\n",
       "    </tr>\n",
       "  </thead>\n",
       "  <tbody>\n",
       "    <tr>\n",
       "      <th>3</th>\n",
       "      <td>Gender</td>\n",
       "      <td>-0.890960</td>\n",
       "      <td>0.890960</td>\n",
       "    </tr>\n",
       "    <tr>\n",
       "      <th>12</th>\n",
       "      <td>City_Pune</td>\n",
       "      <td>0.648856</td>\n",
       "      <td>0.648856</td>\n",
       "    </tr>\n",
       "    <tr>\n",
       "      <th>11</th>\n",
       "      <td>City_New Delhi</td>\n",
       "      <td>-0.564088</td>\n",
       "      <td>0.564088</td>\n",
       "    </tr>\n",
       "    <tr>\n",
       "      <th>4</th>\n",
       "      <td>EverBenched</td>\n",
       "      <td>0.552263</td>\n",
       "      <td>0.552263</td>\n",
       "    </tr>\n",
       "    <tr>\n",
       "      <th>8</th>\n",
       "      <td>Education_Masters</td>\n",
       "      <td>0.462305</td>\n",
       "      <td>0.462305</td>\n",
       "    </tr>\n",
       "    <tr>\n",
       "      <th>2</th>\n",
       "      <td>Age</td>\n",
       "      <td>-0.349341</td>\n",
       "      <td>0.349341</td>\n",
       "    </tr>\n",
       "    <tr>\n",
       "      <th>1</th>\n",
       "      <td>PaymentTier</td>\n",
       "      <td>-0.323538</td>\n",
       "      <td>0.323538</td>\n",
       "    </tr>\n",
       "    <tr>\n",
       "      <th>7</th>\n",
       "      <td>Education_Bachelors</td>\n",
       "      <td>-0.256701</td>\n",
       "      <td>0.256701</td>\n",
       "    </tr>\n",
       "    <tr>\n",
       "      <th>9</th>\n",
       "      <td>Education_PHD</td>\n",
       "      <td>-0.204538</td>\n",
       "      <td>0.204538</td>\n",
       "    </tr>\n",
       "    <tr>\n",
       "      <th>6</th>\n",
       "      <td>TimeTogether</td>\n",
       "      <td>-0.190692</td>\n",
       "      <td>0.190692</td>\n",
       "    </tr>\n",
       "    <tr>\n",
       "      <th>10</th>\n",
       "      <td>City_Bangalore</td>\n",
       "      <td>-0.083702</td>\n",
       "      <td>0.083702</td>\n",
       "    </tr>\n",
       "    <tr>\n",
       "      <th>5</th>\n",
       "      <td>ExperienceInCurrentDomain</td>\n",
       "      <td>-0.044467</td>\n",
       "      <td>0.044467</td>\n",
       "    </tr>\n",
       "    <tr>\n",
       "      <th>0</th>\n",
       "      <td>JoiningYear</td>\n",
       "      <td>0.033559</td>\n",
       "      <td>0.033559</td>\n",
       "    </tr>\n",
       "  </tbody>\n",
       "</table>\n",
       "</div>"
      ],
      "text/plain": [
       "                        colum      coef  coef_abs\n",
       "3                      Gender -0.890960  0.890960\n",
       "12                  City_Pune  0.648856  0.648856\n",
       "11             City_New Delhi -0.564088  0.564088\n",
       "4                 EverBenched  0.552263  0.552263\n",
       "8           Education_Masters  0.462305  0.462305\n",
       "2                         Age -0.349341  0.349341\n",
       "1                 PaymentTier -0.323538  0.323538\n",
       "7         Education_Bachelors -0.256701  0.256701\n",
       "9               Education_PHD -0.204538  0.204538\n",
       "6                TimeTogether -0.190692  0.190692\n",
       "10             City_Bangalore -0.083702  0.083702\n",
       "5   ExperienceInCurrentDomain -0.044467  0.044467\n",
       "0                 JoiningYear  0.033559  0.033559"
      ]
     },
     "execution_count": 78,
     "metadata": {},
     "output_type": "execute_result"
    }
   ],
   "source": [
    "coefs.sort_values('coef_abs', ascending = False)"
   ]
  },
  {
   "cell_type": "code",
   "execution_count": 79,
   "id": "632dcb51",
   "metadata": {},
   "outputs": [
    {
     "data": {
      "text/plain": [
       "<AxesSubplot:ylabel='colum'>"
      ]
     },
     "execution_count": 79,
     "metadata": {},
     "output_type": "execute_result"
    },
    {
     "data": {
      "image/png": "[encoded data removed]",
      "text/plain": [
       "<Figure size 432x288 with 2 Axes>"
      ]
     },
     "metadata": {
      "needs_background": "light"
     },
     "output_type": "display_data"
    }
   ],
   "source": [
    "import seaborn as sns\n",
    "sns.heatmap(coefs.sort_values('coef_abs', ascending = False).set_index('colum'), annot=True)"
   ]
  },
  {
   "cell_type": "code",
   "execution_count": 80,
   "id": "3504fd7b",
   "metadata": {},
   "outputs": [],
   "source": [
    "# Looking on error set"
   ]
  },
  {
   "cell_type": "code",
   "execution_count": 81,
   "id": "6e157c48",
   "metadata": {},
   "outputs": [
    {
     "data": {
      "text/html": [
       "<div>\n",
       "<style scoped>\n",
       "    .dataframe tbody tr th:only-of-type {\n",
       "        vertical-align: middle;\n",
       "    }\n",
       "\n",
       "    .dataframe tbody tr th {\n",
       "        vertical-align: top;\n",
       "    }\n",
       "\n",
       "    .dataframe thead th {\n",
       "        text-align: right;\n",
       "    }\n",
       "</style>\n",
       "<table border=\"1\" class=\"dataframe\">\n",
       "  <thead>\n",
       "    <tr style=\"text-align: right;\">\n",
       "      <th></th>\n",
       "      <th>JoiningYear</th>\n",
       "      <th>PaymentTier</th>\n",
       "      <th>Age</th>\n",
       "      <th>Gender</th>\n",
       "      <th>EverBenched</th>\n",
       "      <th>ExperienceInCurrentDomain</th>\n",
       "      <th>LeaveOrNot</th>\n",
       "      <th>TimeTogether</th>\n",
       "      <th>Education_Bachelors</th>\n",
       "      <th>Education_Masters</th>\n",
       "      <th>Education_PHD</th>\n",
       "      <th>City_Bangalore</th>\n",
       "      <th>City_New Delhi</th>\n",
       "      <th>City_Pune</th>\n",
       "    </tr>\n",
       "  </thead>\n",
       "  <tbody>\n",
       "    <tr>\n",
       "      <th>count</th>\n",
       "      <td>4653.000000</td>\n",
       "      <td>4653.000000</td>\n",
       "      <td>4653.000000</td>\n",
       "      <td>4653.000000</td>\n",
       "      <td>4653.000000</td>\n",
       "      <td>4653.000000</td>\n",
       "      <td>4653.000000</td>\n",
       "      <td>4653.000000</td>\n",
       "      <td>4653.000000</td>\n",
       "      <td>4653.000000</td>\n",
       "      <td>4653.000000</td>\n",
       "      <td>4653.000000</td>\n",
       "      <td>4653.000000</td>\n",
       "      <td>4653.000000</td>\n",
       "    </tr>\n",
       "    <tr>\n",
       "      <th>mean</th>\n",
       "      <td>0.510495</td>\n",
       "      <td>2.698259</td>\n",
       "      <td>0.389121</td>\n",
       "      <td>0.597034</td>\n",
       "      <td>0.102729</td>\n",
       "      <td>2.905652</td>\n",
       "      <td>0.343864</td>\n",
       "      <td>6.937030</td>\n",
       "      <td>0.773909</td>\n",
       "      <td>0.187621</td>\n",
       "      <td>0.038470</td>\n",
       "      <td>0.478831</td>\n",
       "      <td>0.248657</td>\n",
       "      <td>0.272512</td>\n",
       "    </tr>\n",
       "    <tr>\n",
       "      <th>std</th>\n",
       "      <td>0.310563</td>\n",
       "      <td>0.561435</td>\n",
       "      <td>0.254005</td>\n",
       "      <td>0.490547</td>\n",
       "      <td>0.303638</td>\n",
       "      <td>1.558240</td>\n",
       "      <td>0.475047</td>\n",
       "      <td>1.863377</td>\n",
       "      <td>0.418344</td>\n",
       "      <td>0.390451</td>\n",
       "      <td>0.192348</td>\n",
       "      <td>0.499605</td>\n",
       "      <td>0.432281</td>\n",
       "      <td>0.445300</td>\n",
       "    </tr>\n",
       "    <tr>\n",
       "      <th>min</th>\n",
       "      <td>0.000000</td>\n",
       "      <td>1.000000</td>\n",
       "      <td>0.000000</td>\n",
       "      <td>0.000000</td>\n",
       "      <td>0.000000</td>\n",
       "      <td>0.000000</td>\n",
       "      <td>0.000000</td>\n",
       "      <td>4.000000</td>\n",
       "      <td>0.000000</td>\n",
       "      <td>0.000000</td>\n",
       "      <td>0.000000</td>\n",
       "      <td>0.000000</td>\n",
       "      <td>0.000000</td>\n",
       "      <td>0.000000</td>\n",
       "    </tr>\n",
       "    <tr>\n",
       "      <th>25%</th>\n",
       "      <td>0.166667</td>\n",
       "      <td>3.000000</td>\n",
       "      <td>0.210526</td>\n",
       "      <td>0.000000</td>\n",
       "      <td>0.000000</td>\n",
       "      <td>2.000000</td>\n",
       "      <td>0.000000</td>\n",
       "      <td>5.000000</td>\n",
       "      <td>1.000000</td>\n",
       "      <td>0.000000</td>\n",
       "      <td>0.000000</td>\n",
       "      <td>0.000000</td>\n",
       "      <td>0.000000</td>\n",
       "      <td>0.000000</td>\n",
       "    </tr>\n",
       "    <tr>\n",
       "      <th>50%</th>\n",
       "      <td>0.500000</td>\n",
       "      <td>3.000000</td>\n",
       "      <td>0.315789</td>\n",
       "      <td>1.000000</td>\n",
       "      <td>0.000000</td>\n",
       "      <td>3.000000</td>\n",
       "      <td>0.000000</td>\n",
       "      <td>7.000000</td>\n",
       "      <td>1.000000</td>\n",
       "      <td>0.000000</td>\n",
       "      <td>0.000000</td>\n",
       "      <td>0.000000</td>\n",
       "      <td>0.000000</td>\n",
       "      <td>0.000000</td>\n",
       "    </tr>\n",
       "    <tr>\n",
       "      <th>75%</th>\n",
       "      <td>0.833333</td>\n",
       "      <td>3.000000</td>\n",
       "      <td>0.526316</td>\n",
       "      <td>1.000000</td>\n",
       "      <td>0.000000</td>\n",
       "      <td>4.000000</td>\n",
       "      <td>1.000000</td>\n",
       "      <td>9.000000</td>\n",
       "      <td>1.000000</td>\n",
       "      <td>0.000000</td>\n",
       "      <td>0.000000</td>\n",
       "      <td>1.000000</td>\n",
       "      <td>0.000000</td>\n",
       "      <td>1.000000</td>\n",
       "    </tr>\n",
       "    <tr>\n",
       "      <th>max</th>\n",
       "      <td>1.000000</td>\n",
       "      <td>3.000000</td>\n",
       "      <td>1.000000</td>\n",
       "      <td>1.000000</td>\n",
       "      <td>1.000000</td>\n",
       "      <td>7.000000</td>\n",
       "      <td>1.000000</td>\n",
       "      <td>10.000000</td>\n",
       "      <td>1.000000</td>\n",
       "      <td>1.000000</td>\n",
       "      <td>1.000000</td>\n",
       "      <td>1.000000</td>\n",
       "      <td>1.000000</td>\n",
       "      <td>1.000000</td>\n",
       "    </tr>\n",
       "  </tbody>\n",
       "</table>\n",
       "</div>"
      ],
      "text/plain": [
       "       JoiningYear  PaymentTier          Age       Gender  EverBenched  \\\n",
       "count  4653.000000  4653.000000  4653.000000  4653.000000  4653.000000   \n",
       "mean      0.510495     2.698259     0.389121     0.597034     0.102729   \n",
       "std       0.310563     0.561435     0.254005     0.490547     0.303638   \n",
       "min       0.000000     1.000000     0.000000     0.000000     0.000000   \n",
       "25%       0.166667     3.000000     0.210526     0.000000     0.000000   \n",
       "50%       0.500000     3.000000     0.315789     1.000000     0.000000   \n",
       "75%       0.833333     3.000000     0.526316     1.000000     0.000000   \n",
       "max       1.000000     3.000000     1.000000     1.000000     1.000000   \n",
       "\n",
       "       ExperienceInCurrentDomain   LeaveOrNot  TimeTogether  \\\n",
       "count                4653.000000  4653.000000   4653.000000   \n",
       "mean                    2.905652     0.343864      6.937030   \n",
       "std                     1.558240     0.475047      1.863377   \n",
       "min                     0.000000     0.000000      4.000000   \n",
       "25%                     2.000000     0.000000      5.000000   \n",
       "50%                     3.000000     0.000000      7.000000   \n",
       "75%                     4.000000     1.000000      9.000000   \n",
       "max                     7.000000     1.000000     10.000000   \n",
       "\n",
       "       Education_Bachelors  Education_Masters  Education_PHD  City_Bangalore  \\\n",
       "count          4653.000000        4653.000000    4653.000000     4653.000000   \n",
       "mean              0.773909           0.187621       0.038470        0.478831   \n",
       "std               0.418344           0.390451       0.192348        0.499605   \n",
       "min               0.000000           0.000000       0.000000        0.000000   \n",
       "25%               1.000000           0.000000       0.000000        0.000000   \n",
       "50%               1.000000           0.000000       0.000000        0.000000   \n",
       "75%               1.000000           0.000000       0.000000        1.000000   \n",
       "max               1.000000           1.000000       1.000000        1.000000   \n",
       "\n",
       "       City_New Delhi    City_Pune  \n",
       "count     4653.000000  4653.000000  \n",
       "mean         0.248657     0.272512  \n",
       "std          0.432281     0.445300  \n",
       "min          0.000000     0.000000  \n",
       "25%          0.000000     0.000000  \n",
       "50%          0.000000     0.000000  \n",
       "75%          0.000000     1.000000  \n",
       "max          1.000000     1.000000  "
      ]
     },
     "execution_count": 81,
     "metadata": {},
     "output_type": "execute_result"
    }
   ],
   "source": [
    "df.describe()"
   ]
  },
  {
   "cell_type": "code",
   "execution_count": 82,
   "id": "efbf2ddc",
   "metadata": {},
   "outputs": [],
   "source": [
    "X_errors = X_train[y_train == y_train_pred]"
   ]
  },
  {
   "cell_type": "code",
   "execution_count": 83,
   "id": "57377dbe",
   "metadata": {},
   "outputs": [
    {
     "data": {
      "text/html": [
       "<div>\n",
       "<style scoped>\n",
       "    .dataframe tbody tr th:only-of-type {\n",
       "        vertical-align: middle;\n",
       "    }\n",
       "\n",
       "    .dataframe tbody tr th {\n",
       "        vertical-align: top;\n",
       "    }\n",
       "\n",
       "    .dataframe thead th {\n",
       "        text-align: right;\n",
       "    }\n",
       "</style>\n",
       "<table border=\"1\" class=\"dataframe\">\n",
       "  <thead>\n",
       "    <tr style=\"text-align: right;\">\n",
       "      <th></th>\n",
       "      <th>JoiningYear</th>\n",
       "      <th>PaymentTier</th>\n",
       "      <th>Age</th>\n",
       "      <th>Gender</th>\n",
       "      <th>EverBenched</th>\n",
       "      <th>ExperienceInCurrentDomain</th>\n",
       "      <th>TimeTogether</th>\n",
       "      <th>Education_Bachelors</th>\n",
       "      <th>Education_Masters</th>\n",
       "      <th>Education_PHD</th>\n",
       "      <th>City_Bangalore</th>\n",
       "      <th>City_New Delhi</th>\n",
       "      <th>City_Pune</th>\n",
       "    </tr>\n",
       "  </thead>\n",
       "  <tbody>\n",
       "    <tr>\n",
       "      <th>count</th>\n",
       "      <td>2681.000000</td>\n",
       "      <td>2681.000000</td>\n",
       "      <td>2681.000000</td>\n",
       "      <td>2681.000000</td>\n",
       "      <td>2681.000000</td>\n",
       "      <td>2681.000000</td>\n",
       "      <td>2681.00000</td>\n",
       "      <td>2681.000000</td>\n",
       "      <td>2681.000000</td>\n",
       "      <td>2681.00000</td>\n",
       "      <td>2681.000000</td>\n",
       "      <td>2681.000000</td>\n",
       "      <td>2681.000000</td>\n",
       "    </tr>\n",
       "    <tr>\n",
       "      <th>mean</th>\n",
       "      <td>0.485267</td>\n",
       "      <td>2.731443</td>\n",
       "      <td>0.389525</td>\n",
       "      <td>0.603133</td>\n",
       "      <td>0.097352</td>\n",
       "      <td>2.941067</td>\n",
       "      <td>7.08840</td>\n",
       "      <td>0.837374</td>\n",
       "      <td>0.125326</td>\n",
       "      <td>0.03730</td>\n",
       "      <td>0.483029</td>\n",
       "      <td>0.233868</td>\n",
       "      <td>0.283103</td>\n",
       "    </tr>\n",
       "    <tr>\n",
       "      <th>std</th>\n",
       "      <td>0.295875</td>\n",
       "      <td>0.542465</td>\n",
       "      <td>0.256059</td>\n",
       "      <td>0.489339</td>\n",
       "      <td>0.296491</td>\n",
       "      <td>1.561033</td>\n",
       "      <td>1.77525</td>\n",
       "      <td>0.369093</td>\n",
       "      <td>0.331150</td>\n",
       "      <td>0.18953</td>\n",
       "      <td>0.499805</td>\n",
       "      <td>0.423368</td>\n",
       "      <td>0.450590</td>\n",
       "    </tr>\n",
       "    <tr>\n",
       "      <th>min</th>\n",
       "      <td>0.000000</td>\n",
       "      <td>1.000000</td>\n",
       "      <td>0.000000</td>\n",
       "      <td>0.000000</td>\n",
       "      <td>0.000000</td>\n",
       "      <td>0.000000</td>\n",
       "      <td>4.00000</td>\n",
       "      <td>0.000000</td>\n",
       "      <td>0.000000</td>\n",
       "      <td>0.00000</td>\n",
       "      <td>0.000000</td>\n",
       "      <td>0.000000</td>\n",
       "      <td>0.000000</td>\n",
       "    </tr>\n",
       "    <tr>\n",
       "      <th>25%</th>\n",
       "      <td>0.166667</td>\n",
       "      <td>3.000000</td>\n",
       "      <td>0.210526</td>\n",
       "      <td>0.000000</td>\n",
       "      <td>0.000000</td>\n",
       "      <td>2.000000</td>\n",
       "      <td>5.00000</td>\n",
       "      <td>1.000000</td>\n",
       "      <td>0.000000</td>\n",
       "      <td>0.00000</td>\n",
       "      <td>0.000000</td>\n",
       "      <td>0.000000</td>\n",
       "      <td>0.000000</td>\n",
       "    </tr>\n",
       "    <tr>\n",
       "      <th>50%</th>\n",
       "      <td>0.500000</td>\n",
       "      <td>3.000000</td>\n",
       "      <td>0.315789</td>\n",
       "      <td>1.000000</td>\n",
       "      <td>0.000000</td>\n",
       "      <td>3.000000</td>\n",
       "      <td>7.00000</td>\n",
       "      <td>1.000000</td>\n",
       "      <td>0.000000</td>\n",
       "      <td>0.00000</td>\n",
       "      <td>0.000000</td>\n",
       "      <td>0.000000</td>\n",
       "      <td>0.000000</td>\n",
       "    </tr>\n",
       "    <tr>\n",
       "      <th>75%</th>\n",
       "      <td>0.833333</td>\n",
       "      <td>3.000000</td>\n",
       "      <td>0.526316</td>\n",
       "      <td>1.000000</td>\n",
       "      <td>0.000000</td>\n",
       "      <td>4.000000</td>\n",
       "      <td>9.00000</td>\n",
       "      <td>1.000000</td>\n",
       "      <td>0.000000</td>\n",
       "      <td>0.00000</td>\n",
       "      <td>1.000000</td>\n",
       "      <td>0.000000</td>\n",
       "      <td>1.000000</td>\n",
       "    </tr>\n",
       "    <tr>\n",
       "      <th>max</th>\n",
       "      <td>1.000000</td>\n",
       "      <td>3.000000</td>\n",
       "      <td>1.000000</td>\n",
       "      <td>1.000000</td>\n",
       "      <td>1.000000</td>\n",
       "      <td>7.000000</td>\n",
       "      <td>10.00000</td>\n",
       "      <td>1.000000</td>\n",
       "      <td>1.000000</td>\n",
       "      <td>1.00000</td>\n",
       "      <td>1.000000</td>\n",
       "      <td>1.000000</td>\n",
       "      <td>1.000000</td>\n",
       "    </tr>\n",
       "  </tbody>\n",
       "</table>\n",
       "</div>"
      ],
      "text/plain": [
       "       JoiningYear  PaymentTier          Age       Gender  EverBenched  \\\n",
       "count  2681.000000  2681.000000  2681.000000  2681.000000  2681.000000   \n",
       "mean      0.485267     2.731443     0.389525     0.603133     0.097352   \n",
       "std       0.295875     0.542465     0.256059     0.489339     0.296491   \n",
       "min       0.000000     1.000000     0.000000     0.000000     0.000000   \n",
       "25%       0.166667     3.000000     0.210526     0.000000     0.000000   \n",
       "50%       0.500000     3.000000     0.315789     1.000000     0.000000   \n",
       "75%       0.833333     3.000000     0.526316     1.000000     0.000000   \n",
       "max       1.000000     3.000000     1.000000     1.000000     1.000000   \n",
       "\n",
       "       ExperienceInCurrentDomain  TimeTogether  Education_Bachelors  \\\n",
       "count                2681.000000    2681.00000          2681.000000   \n",
       "mean                    2.941067       7.08840             0.837374   \n",
       "std                     1.561033       1.77525             0.369093   \n",
       "min                     0.000000       4.00000             0.000000   \n",
       "25%                     2.000000       5.00000             1.000000   \n",
       "50%                     3.000000       7.00000             1.000000   \n",
       "75%                     4.000000       9.00000             1.000000   \n",
       "max                     7.000000      10.00000             1.000000   \n",
       "\n",
       "       Education_Masters  Education_PHD  City_Bangalore  City_New Delhi  \\\n",
       "count        2681.000000     2681.00000     2681.000000     2681.000000   \n",
       "mean            0.125326        0.03730        0.483029        0.233868   \n",
       "std             0.331150        0.18953        0.499805        0.423368   \n",
       "min             0.000000        0.00000        0.000000        0.000000   \n",
       "25%             0.000000        0.00000        0.000000        0.000000   \n",
       "50%             0.000000        0.00000        0.000000        0.000000   \n",
       "75%             0.000000        0.00000        1.000000        0.000000   \n",
       "max             1.000000        1.00000        1.000000        1.000000   \n",
       "\n",
       "         City_Pune  \n",
       "count  2681.000000  \n",
       "mean      0.283103  \n",
       "std       0.450590  \n",
       "min       0.000000  \n",
       "25%       0.000000  \n",
       "50%       0.000000  \n",
       "75%       1.000000  \n",
       "max       1.000000  "
      ]
     },
     "execution_count": 83,
     "metadata": {},
     "output_type": "execute_result"
    }
   ],
   "source": [
    "X_errors.describe()"
   ]
  },
  {
   "cell_type": "code",
   "execution_count": 84,
   "id": "c49280a6",
   "metadata": {},
   "outputs": [
    {
     "data": {
      "text/plain": [
       "count    3653.000000\n",
       "mean        0.344922\n",
       "std         0.475408\n",
       "min         0.000000\n",
       "25%         0.000000\n",
       "50%         0.000000\n",
       "75%         1.000000\n",
       "max         1.000000\n",
       "Name: LeaveOrNot, dtype: float64"
      ]
     },
     "execution_count": 84,
     "metadata": {},
     "output_type": "execute_result"
    }
   ],
   "source": [
    "y_train.describe()"
   ]
  },
  {
   "cell_type": "code",
   "execution_count": 85,
   "id": "546b6db2",
   "metadata": {},
   "outputs": [
    {
     "data": {
      "text/plain": [
       "0.20421571311251027"
      ]
     },
     "execution_count": 85,
     "metadata": {},
     "output_type": "execute_result"
    }
   ],
   "source": [
    "y_train_pred.mean()"
   ]
  },
  {
   "cell_type": "code",
   "execution_count": 86,
   "id": "9bfdc985",
   "metadata": {},
   "outputs": [
    {
     "data": {
      "text/plain": [
       "0.4031273441860018"
      ]
     },
     "execution_count": 86,
     "metadata": {},
     "output_type": "execute_result"
    }
   ],
   "source": [
    "y_train_pred.std()"
   ]
  },
  {
   "cell_type": "code",
   "execution_count": 87,
   "id": "5bfc3c5b",
   "metadata": {},
   "outputs": [],
   "source": [
    "# Trying clustering"
   ]
  },
  {
   "cell_type": "code",
   "execution_count": 88,
   "id": "7bf108cb",
   "metadata": {},
   "outputs": [],
   "source": [
    "import numpy as np"
   ]
  },
  {
   "cell_type": "code",
   "execution_count": 89,
   "id": "cbb257d2",
   "metadata": {},
   "outputs": [
    {
     "data": {
      "image/png": "[encoded data removed]",
      "text/plain": [
       "<Figure size 432x288 with 1 Axes>"
      ]
     },
     "metadata": {
      "needs_background": "light"
     },
     "output_type": "display_data"
    }
   ],
   "source": [
    "import matplotlib.pyplot as plt\n",
    "from sklearn.cluster import KMeans\n",
    "\n",
    "inertia = []\n",
    "for k in range(1, 8):\n",
    "    kmeans = KMeans(n_clusters=k, random_state=42).fit(df.drop('LeaveOrNot', axis = 1))\n",
    "    inertia.append(np.sqrt(kmeans.inertia_))\n",
    "\n",
    "plt.plot(range(1, 8), inertia, marker='s');\n",
    "plt.xlabel('$k$')\n",
    "plt.ylabel('$J(C_k)$');"
   ]
  },
  {
   "cell_type": "code",
   "execution_count": 90,
   "id": "cd09c5c9",
   "metadata": {},
   "outputs": [],
   "source": [
    "kmeans = KMeans(n_clusters=4, random_state=42).fit(df.drop('LeaveOrNot', axis = 1))"
   ]
  },
  {
   "cell_type": "code",
   "execution_count": 91,
   "id": "4803cd7f",
   "metadata": {},
   "outputs": [],
   "source": [
    "df['cluster'] = kmeans.labels_"
   ]
  },
  {
   "cell_type": "code",
   "execution_count": 92,
   "id": "6e52a313",
   "metadata": {},
   "outputs": [],
   "source": [
    "# Looking on clusters"
   ]
  },
  {
   "cell_type": "code",
   "execution_count": 93,
   "id": "91eb7f60",
   "metadata": {},
   "outputs": [
    {
     "data": {
      "text/plain": [
       "0    1266\n",
       "1    1152\n",
       "3    1132\n",
       "2    1103\n",
       "Name: cluster, dtype: int64"
      ]
     },
     "execution_count": 93,
     "metadata": {},
     "output_type": "execute_result"
    }
   ],
   "source": [
    "df.cluster.value_counts()"
   ]
  },
  {
   "cell_type": "code",
   "execution_count": 94,
   "id": "7cd13c5f",
   "metadata": {},
   "outputs": [
    {
     "data": {
      "text/plain": [
       "cluster\n",
       "0    0.387836\n",
       "1    0.401042\n",
       "2    0.327289\n",
       "3    0.252650\n",
       "Name: LeaveOrNot, dtype: float64"
      ]
     },
     "execution_count": 94,
     "metadata": {},
     "output_type": "execute_result"
    }
   ],
   "source": [
    "df.groupby('cluster').LeaveOrNot.mean()"
   ]
  },
  {
   "cell_type": "code",
   "execution_count": 95,
   "id": "e4f88375",
   "metadata": {},
   "outputs": [
    {
     "data": {
      "text/html": [
       "<div>\n",
       "<style scoped>\n",
       "    .dataframe tbody tr th:only-of-type {\n",
       "        vertical-align: middle;\n",
       "    }\n",
       "\n",
       "    .dataframe tbody tr th {\n",
       "        vertical-align: top;\n",
       "    }\n",
       "\n",
       "    .dataframe thead th {\n",
       "        text-align: right;\n",
       "    }\n",
       "</style>\n",
       "<table border=\"1\" class=\"dataframe\">\n",
       "  <thead>\n",
       "    <tr style=\"text-align: right;\">\n",
       "      <th></th>\n",
       "      <th>JoiningYear</th>\n",
       "      <th>PaymentTier</th>\n",
       "      <th>Age</th>\n",
       "      <th>Gender</th>\n",
       "      <th>EverBenched</th>\n",
       "      <th>ExperienceInCurrentDomain</th>\n",
       "      <th>LeaveOrNot</th>\n",
       "      <th>TimeTogether</th>\n",
       "      <th>Education_Bachelors</th>\n",
       "      <th>Education_Masters</th>\n",
       "      <th>Education_PHD</th>\n",
       "      <th>City_Bangalore</th>\n",
       "      <th>City_New Delhi</th>\n",
       "      <th>City_Pune</th>\n",
       "      <th>cluster</th>\n",
       "    </tr>\n",
       "  </thead>\n",
       "  <tbody>\n",
       "    <tr>\n",
       "      <th>0</th>\n",
       "      <td>0.833333</td>\n",
       "      <td>3</td>\n",
       "      <td>0.631579</td>\n",
       "      <td>1</td>\n",
       "      <td>0</td>\n",
       "      <td>0</td>\n",
       "      <td>0</td>\n",
       "      <td>5</td>\n",
       "      <td>1</td>\n",
       "      <td>0</td>\n",
       "      <td>0</td>\n",
       "      <td>1</td>\n",
       "      <td>0</td>\n",
       "      <td>0</td>\n",
       "      <td>1</td>\n",
       "    </tr>\n",
       "    <tr>\n",
       "      <th>1</th>\n",
       "      <td>0.166667</td>\n",
       "      <td>1</td>\n",
       "      <td>0.315789</td>\n",
       "      <td>0</td>\n",
       "      <td>0</td>\n",
       "      <td>3</td>\n",
       "      <td>1</td>\n",
       "      <td>9</td>\n",
       "      <td>1</td>\n",
       "      <td>0</td>\n",
       "      <td>0</td>\n",
       "      <td>0</td>\n",
       "      <td>0</td>\n",
       "      <td>1</td>\n",
       "      <td>3</td>\n",
       "    </tr>\n",
       "    <tr>\n",
       "      <th>2</th>\n",
       "      <td>0.333333</td>\n",
       "      <td>3</td>\n",
       "      <td>0.842105</td>\n",
       "      <td>0</td>\n",
       "      <td>0</td>\n",
       "      <td>2</td>\n",
       "      <td>0</td>\n",
       "      <td>8</td>\n",
       "      <td>1</td>\n",
       "      <td>0</td>\n",
       "      <td>0</td>\n",
       "      <td>0</td>\n",
       "      <td>1</td>\n",
       "      <td>0</td>\n",
       "      <td>2</td>\n",
       "    </tr>\n",
       "    <tr>\n",
       "      <th>3</th>\n",
       "      <td>0.666667</td>\n",
       "      <td>3</td>\n",
       "      <td>0.263158</td>\n",
       "      <td>1</td>\n",
       "      <td>0</td>\n",
       "      <td>5</td>\n",
       "      <td>1</td>\n",
       "      <td>6</td>\n",
       "      <td>0</td>\n",
       "      <td>1</td>\n",
       "      <td>0</td>\n",
       "      <td>1</td>\n",
       "      <td>0</td>\n",
       "      <td>0</td>\n",
       "      <td>0</td>\n",
       "    </tr>\n",
       "    <tr>\n",
       "      <th>4</th>\n",
       "      <td>0.833333</td>\n",
       "      <td>3</td>\n",
       "      <td>0.105263</td>\n",
       "      <td>1</td>\n",
       "      <td>1</td>\n",
       "      <td>2</td>\n",
       "      <td>1</td>\n",
       "      <td>5</td>\n",
       "      <td>0</td>\n",
       "      <td>1</td>\n",
       "      <td>0</td>\n",
       "      <td>0</td>\n",
       "      <td>0</td>\n",
       "      <td>1</td>\n",
       "      <td>1</td>\n",
       "    </tr>\n",
       "  </tbody>\n",
       "</table>\n",
       "</div>"
      ],
      "text/plain": [
       "   JoiningYear  PaymentTier       Age  Gender  EverBenched  \\\n",
       "0     0.833333            3  0.631579       1            0   \n",
       "1     0.166667            1  0.315789       0            0   \n",
       "2     0.333333            3  0.842105       0            0   \n",
       "3     0.666667            3  0.263158       1            0   \n",
       "4     0.833333            3  0.105263       1            1   \n",
       "\n",
       "   ExperienceInCurrentDomain  LeaveOrNot  TimeTogether  Education_Bachelors  \\\n",
       "0                          0           0             5                    1   \n",
       "1                          3           1             9                    1   \n",
       "2                          2           0             8                    1   \n",
       "3                          5           1             6                    0   \n",
       "4                          2           1             5                    0   \n",
       "\n",
       "   Education_Masters  Education_PHD  City_Bangalore  City_New Delhi  \\\n",
       "0                  0              0               1               0   \n",
       "1                  0              0               0               0   \n",
       "2                  0              0               0               1   \n",
       "3                  1              0               1               0   \n",
       "4                  1              0               0               0   \n",
       "\n",
       "   City_Pune  cluster  \n",
       "0          0        1  \n",
       "1          1        3  \n",
       "2          0        2  \n",
       "3          0        0  \n",
       "4          1        1  "
      ]
     },
     "execution_count": 95,
     "metadata": {},
     "output_type": "execute_result"
    }
   ],
   "source": [
    "df.head()"
   ]
  },
  {
   "cell_type": "code",
   "execution_count": 96,
   "id": "c6c969ff",
   "metadata": {},
   "outputs": [
    {
     "data": {
      "text/plain": [
       "cluster  PaymentTier\n",
       "0        1              0.400000\n",
       "         2              0.589666\n",
       "         3              0.311288\n",
       "1        1              0.200000\n",
       "         2              0.397436\n",
       "         3              0.413836\n",
       "2        1              0.453333\n",
       "         2              0.865497\n",
       "         3              0.208868\n",
       "3        1              0.349206\n",
       "         2              0.792453\n",
       "         3              0.186916\n",
       "Name: LeaveOrNot, dtype: float64"
      ]
     },
     "execution_count": 96,
     "metadata": {},
     "output_type": "execute_result"
    }
   ],
   "source": [
    "df.groupby(['cluster', 'PaymentTier']).LeaveOrNot.mean()"
   ]
  },
  {
   "cell_type": "code",
   "execution_count": 97,
   "id": "ae54b529",
   "metadata": {},
   "outputs": [
    {
     "data": {
      "text/plain": [
       "cluster  PaymentTier\n",
       "0        1               60\n",
       "         2              329\n",
       "         3              877\n",
       "1        1               45\n",
       "         2              312\n",
       "         3              795\n",
       "2        1               75\n",
       "         2              171\n",
       "         3              857\n",
       "3        1               63\n",
       "         2              106\n",
       "         3              963\n",
       "Name: LeaveOrNot, dtype: int64"
      ]
     },
     "execution_count": 97,
     "metadata": {},
     "output_type": "execute_result"
    }
   ],
   "source": [
    "df.groupby(['cluster', 'PaymentTier']).LeaveOrNot.count()"
   ]
  },
  {
   "cell_type": "code",
   "execution_count": 98,
   "id": "d504192b",
   "metadata": {},
   "outputs": [
    {
     "data": {
      "text/plain": [
       "cluster  EverBenched\n",
       "0        0              0.367621\n",
       "         1              0.540541\n",
       "1        0              0.384016\n",
       "         1              0.539683\n",
       "2        0              0.316057\n",
       "         1              0.420168\n",
       "3        0              0.255014\n",
       "         1              0.223529\n",
       "Name: LeaveOrNot, dtype: float64"
      ]
     },
     "execution_count": 98,
     "metadata": {},
     "output_type": "execute_result"
    }
   ],
   "source": [
    "df.groupby(['cluster', 'EverBenched']).LeaveOrNot.mean()"
   ]
  },
  {
   "cell_type": "code",
   "execution_count": 99,
   "id": "7369d37d",
   "metadata": {},
   "outputs": [
    {
     "data": {
      "text/html": [
       "<div>\n",
       "<style scoped>\n",
       "    .dataframe tbody tr th:only-of-type {\n",
       "        vertical-align: middle;\n",
       "    }\n",
       "\n",
       "    .dataframe tbody tr th {\n",
       "        vertical-align: top;\n",
       "    }\n",
       "\n",
       "    .dataframe thead th {\n",
       "        text-align: right;\n",
       "    }\n",
       "</style>\n",
       "<table border=\"1\" class=\"dataframe\">\n",
       "  <thead>\n",
       "    <tr style=\"text-align: right;\">\n",
       "      <th></th>\n",
       "      <th>JoiningYear</th>\n",
       "      <th>PaymentTier</th>\n",
       "      <th>Age</th>\n",
       "      <th>Gender</th>\n",
       "      <th>EverBenched</th>\n",
       "      <th>ExperienceInCurrentDomain</th>\n",
       "      <th>LeaveOrNot</th>\n",
       "      <th>TimeTogether</th>\n",
       "      <th>Education_Bachelors</th>\n",
       "      <th>Education_Masters</th>\n",
       "      <th>Education_PHD</th>\n",
       "      <th>City_Bangalore</th>\n",
       "      <th>City_New Delhi</th>\n",
       "      <th>City_Pune</th>\n",
       "      <th>cluster</th>\n",
       "    </tr>\n",
       "  </thead>\n",
       "  <tbody>\n",
       "    <tr>\n",
       "      <th>0</th>\n",
       "      <td>0.833333</td>\n",
       "      <td>3</td>\n",
       "      <td>0.631579</td>\n",
       "      <td>1</td>\n",
       "      <td>0</td>\n",
       "      <td>0</td>\n",
       "      <td>0</td>\n",
       "      <td>5</td>\n",
       "      <td>1</td>\n",
       "      <td>0</td>\n",
       "      <td>0</td>\n",
       "      <td>1</td>\n",
       "      <td>0</td>\n",
       "      <td>0</td>\n",
       "      <td>1</td>\n",
       "    </tr>\n",
       "    <tr>\n",
       "      <th>1</th>\n",
       "      <td>0.166667</td>\n",
       "      <td>1</td>\n",
       "      <td>0.315789</td>\n",
       "      <td>0</td>\n",
       "      <td>0</td>\n",
       "      <td>3</td>\n",
       "      <td>1</td>\n",
       "      <td>9</td>\n",
       "      <td>1</td>\n",
       "      <td>0</td>\n",
       "      <td>0</td>\n",
       "      <td>0</td>\n",
       "      <td>0</td>\n",
       "      <td>1</td>\n",
       "      <td>3</td>\n",
       "    </tr>\n",
       "    <tr>\n",
       "      <th>2</th>\n",
       "      <td>0.333333</td>\n",
       "      <td>3</td>\n",
       "      <td>0.842105</td>\n",
       "      <td>0</td>\n",
       "      <td>0</td>\n",
       "      <td>2</td>\n",
       "      <td>0</td>\n",
       "      <td>8</td>\n",
       "      <td>1</td>\n",
       "      <td>0</td>\n",
       "      <td>0</td>\n",
       "      <td>0</td>\n",
       "      <td>1</td>\n",
       "      <td>0</td>\n",
       "      <td>2</td>\n",
       "    </tr>\n",
       "    <tr>\n",
       "      <th>3</th>\n",
       "      <td>0.666667</td>\n",
       "      <td>3</td>\n",
       "      <td>0.263158</td>\n",
       "      <td>1</td>\n",
       "      <td>0</td>\n",
       "      <td>5</td>\n",
       "      <td>1</td>\n",
       "      <td>6</td>\n",
       "      <td>0</td>\n",
       "      <td>1</td>\n",
       "      <td>0</td>\n",
       "      <td>1</td>\n",
       "      <td>0</td>\n",
       "      <td>0</td>\n",
       "      <td>0</td>\n",
       "    </tr>\n",
       "    <tr>\n",
       "      <th>4</th>\n",
       "      <td>0.833333</td>\n",
       "      <td>3</td>\n",
       "      <td>0.105263</td>\n",
       "      <td>1</td>\n",
       "      <td>1</td>\n",
       "      <td>2</td>\n",
       "      <td>1</td>\n",
       "      <td>5</td>\n",
       "      <td>0</td>\n",
       "      <td>1</td>\n",
       "      <td>0</td>\n",
       "      <td>0</td>\n",
       "      <td>0</td>\n",
       "      <td>1</td>\n",
       "      <td>1</td>\n",
       "    </tr>\n",
       "  </tbody>\n",
       "</table>\n",
       "</div>"
      ],
      "text/plain": [
       "   JoiningYear  PaymentTier       Age  Gender  EverBenched  \\\n",
       "0     0.833333            3  0.631579       1            0   \n",
       "1     0.166667            1  0.315789       0            0   \n",
       "2     0.333333            3  0.842105       0            0   \n",
       "3     0.666667            3  0.263158       1            0   \n",
       "4     0.833333            3  0.105263       1            1   \n",
       "\n",
       "   ExperienceInCurrentDomain  LeaveOrNot  TimeTogether  Education_Bachelors  \\\n",
       "0                          0           0             5                    1   \n",
       "1                          3           1             9                    1   \n",
       "2                          2           0             8                    1   \n",
       "3                          5           1             6                    0   \n",
       "4                          2           1             5                    0   \n",
       "\n",
       "   Education_Masters  Education_PHD  City_Bangalore  City_New Delhi  \\\n",
       "0                  0              0               1               0   \n",
       "1                  0              0               0               0   \n",
       "2                  0              0               0               1   \n",
       "3                  1              0               1               0   \n",
       "4                  1              0               0               0   \n",
       "\n",
       "   City_Pune  cluster  \n",
       "0          0        1  \n",
       "1          1        3  \n",
       "2          0        2  \n",
       "3          0        0  \n",
       "4          1        1  "
      ]
     },
     "execution_count": 99,
     "metadata": {},
     "output_type": "execute_result"
    }
   ],
   "source": [
    "df.head()"
   ]
  },
  {
   "cell_type": "code",
   "execution_count": 100,
   "id": "4fb90e31",
   "metadata": {},
   "outputs": [
    {
     "data": {
      "text/plain": [
       "cluster  Education_Bachelors\n",
       "0        0                      0.501672\n",
       "         1                      0.352637\n",
       "1        0                      0.457143\n",
       "         1                      0.372881\n",
       "2        0                      0.315000\n",
       "         1                      0.330011\n",
       "3        0                      0.488095\n",
       "         1                      0.211618\n",
       "Name: LeaveOrNot, dtype: float64"
      ]
     },
     "execution_count": 100,
     "metadata": {},
     "output_type": "execute_result"
    }
   ],
   "source": [
    "df.groupby(['cluster', 'Education_Bachelors']).LeaveOrNot.mean()"
   ]
  },
  {
   "cell_type": "code",
   "execution_count": 101,
   "id": "49aba5f4",
   "metadata": {},
   "outputs": [
    {
     "data": {
      "text/plain": [
       "cluster  Education_Masters\n",
       "0        0                    0.351724\n",
       "         1                    0.533865\n",
       "1        0                    0.375465\n",
       "         1                    0.460870\n",
       "2        0                    0.319283\n",
       "         1                    0.376623\n",
       "3        0                    0.209118\n",
       "         1                    0.609756\n",
       "Name: LeaveOrNot, dtype: float64"
      ]
     },
     "execution_count": 101,
     "metadata": {},
     "output_type": "execute_result"
    }
   ],
   "source": [
    "df.groupby(['cluster', 'Education_Masters']).LeaveOrNot.mean()"
   ]
  },
  {
   "cell_type": "code",
   "execution_count": 102,
   "id": "58352934",
   "metadata": {},
   "outputs": [
    {
     "data": {
      "text/plain": [
       "cluster  Education_PHD\n",
       "0        0                0.389984\n",
       "         1                0.333333\n",
       "1        0                0.400180\n",
       "         1                0.425000\n",
       "2        0                0.336802\n",
       "         1                0.108696\n",
       "3        0                0.256670\n",
       "         1                0.155556\n",
       "Name: LeaveOrNot, dtype: float64"
      ]
     },
     "execution_count": 102,
     "metadata": {},
     "output_type": "execute_result"
    }
   ],
   "source": [
    "df.groupby(['cluster', 'Education_PHD']).LeaveOrNot.mean()"
   ]
  },
  {
   "cell_type": "code",
   "execution_count": 103,
   "id": "2c68dae0",
   "metadata": {},
   "outputs": [
    {
     "data": {
      "text/plain": [
       "cluster  City_Bangalore\n",
       "0        0                 0.466102\n",
       "         1                 0.288530\n",
       "1        0                 0.402757\n",
       "         1                 0.398798\n",
       "2        0                 0.420035\n",
       "         1                 0.228464\n",
       "3        0                 0.349495\n",
       "         1                 0.177394\n",
       "Name: LeaveOrNot, dtype: float64"
      ]
     },
     "execution_count": 103,
     "metadata": {},
     "output_type": "execute_result"
    }
   ],
   "source": [
    "df.groupby(['cluster', 'City_Bangalore']).LeaveOrNot.mean()"
   ]
  },
  {
   "cell_type": "code",
   "execution_count": 104,
   "id": "e04e0355",
   "metadata": {},
   "outputs": [
    {
     "data": {
      "text/plain": [
       "cluster  City_New Delhi\n",
       "0        0                 0.408751\n",
       "         1                 0.328267\n",
       "1        0                 0.424603\n",
       "         1                 0.356061\n",
       "2        0                 0.346939\n",
       "         1                 0.248869\n",
       "3        0                 0.243214\n",
       "         1                 0.293839\n",
       "Name: LeaveOrNot, dtype: float64"
      ]
     },
     "execution_count": 104,
     "metadata": {},
     "output_type": "execute_result"
    }
   ],
   "source": [
    "df.groupby(['cluster', 'City_New Delhi']).LeaveOrNot.mean()"
   ]
  },
  {
   "cell_type": "code",
   "execution_count": 105,
   "id": "d7388ac1",
   "metadata": {},
   "outputs": [
    {
     "data": {
      "text/plain": [
       "cluster  City_Pune\n",
       "0        0            0.303269\n",
       "         1            0.585752\n",
       "1        0            0.379888\n",
       "         1            0.474708\n",
       "2        0            0.234437\n",
       "         1            0.528736\n",
       "3        0            0.206368\n",
       "         1            0.390845\n",
       "Name: LeaveOrNot, dtype: float64"
      ]
     },
     "execution_count": 105,
     "metadata": {},
     "output_type": "execute_result"
    }
   ],
   "source": [
    "df.groupby(['cluster', 'City_Pune']).LeaveOrNot.mean()"
   ]
  },
  {
   "cell_type": "code",
   "execution_count": 106,
   "id": "bf920ebf",
   "metadata": {},
   "outputs": [
    {
     "data": {
      "text/plain": [
       "0    3053\n",
       "1    1600\n",
       "Name: LeaveOrNot, dtype: int64"
      ]
     },
     "execution_count": 106,
     "metadata": {},
     "output_type": "execute_result"
    }
   ],
   "source": [
    "df.LeaveOrNot.value_counts()"
   ]
  },
  {
   "cell_type": "code",
   "execution_count": 107,
   "id": "1280ec5a",
   "metadata": {},
   "outputs": [],
   "source": [
    "df = df.drop('cluster', axis = 1)"
   ]
  },
  {
   "cell_type": "code",
   "execution_count": 108,
   "id": "fc658507",
   "metadata": {},
   "outputs": [],
   "source": [
    "# Trying other model with clustering and elimination of imbalance "
   ]
  },
  {
   "cell_type": "code",
   "execution_count": 109,
   "id": "46eb270e",
   "metadata": {},
   "outputs": [],
   "source": [
    "df_train, df_test = train_test_split(df, test_size = 1000, random_state = 42)"
   ]
  },
  {
   "cell_type": "code",
   "execution_count": 110,
   "id": "aeb83619",
   "metadata": {},
   "outputs": [],
   "source": [
    "from imblearn.combine import SMOTETomek"
   ]
  },
  {
   "cell_type": "code",
   "execution_count": 111,
   "id": "9b21a1e9",
   "metadata": {},
   "outputs": [],
   "source": [
    "smotetomek = SMOTETomek(random_state = 42)\n",
    "X_res, y_res = smotetomek.fit_resample(df_train.drop(['LeaveOrNot'], axis = 1), df_train.LeaveOrNot)"
   ]
  },
  {
   "cell_type": "code",
   "execution_count": 112,
   "id": "77b8b2d0",
   "metadata": {},
   "outputs": [],
   "source": [
    "X_test = df_test.drop('LeaveOrNot', axis = 1)\n",
    "y_test = df_test.LeaveOrNot"
   ]
  },
  {
   "cell_type": "code",
   "execution_count": 113,
   "id": "7c70cabe",
   "metadata": {},
   "outputs": [],
   "source": [
    "X_res['cluster'] = kmeans.predict(X_res)"
   ]
  },
  {
   "cell_type": "code",
   "execution_count": 114,
   "id": "52063e70",
   "metadata": {},
   "outputs": [],
   "source": [
    "X_test['cluster'] = kmeans.predict(X_test)"
   ]
  },
  {
   "cell_type": "code",
   "execution_count": 115,
   "id": "b455ae82",
   "metadata": {},
   "outputs": [],
   "source": [
    "X_res = X_res.merge(pd.DataFrame(kmeans.transform(X_res.drop('cluster', axis = 1))).add_prefix('distance_'), left_index = True, right_index = True)"
   ]
  },
  {
   "cell_type": "code",
   "execution_count": 116,
   "id": "b317aea7",
   "metadata": {},
   "outputs": [],
   "source": [
    "X_test = X_test.reset_index().drop('index', axis = 1).merge(pd.DataFrame(kmeans.transform(X_test.drop('cluster', axis = 1))).add_prefix('distance_'), left_index = True, right_index = True, how='left')"
   ]
  },
  {
   "cell_type": "code",
   "execution_count": 117,
   "id": "096ecc65",
   "metadata": {},
   "outputs": [
    {
     "data": {
      "text/plain": [
       "LogisticRegression(max_iter=10000)"
      ]
     },
     "execution_count": 117,
     "metadata": {},
     "output_type": "execute_result"
    }
   ],
   "source": [
    "log = LogisticRegression(max_iter = 10000)\n",
    "log.fit(X_res, y_res)"
   ]
  },
  {
   "cell_type": "code",
   "execution_count": 118,
   "id": "fac34583",
   "metadata": {},
   "outputs": [
    {
     "name": "stdout",
     "output_type": "stream",
     "text": [
      "Train_set:\n",
      "f1: 0.7338161070879965\n",
      "precision_score: 0.7501121579183491\n",
      "roc_auc_score: 0.7394759450171821\n",
      "\n",
      "\n",
      "Test_set:\n",
      "f1: 0.6864864864864865\n",
      "precision_score: 0.635\n",
      "roc_auc_score: 0.7629233511586453\n"
     ]
    }
   ],
   "source": [
    "y_train_pred = log.predict(X_res)\n",
    "y_test_pred = log.predict(X_test)\n",
    "print('Train_set:')\n",
    "print('f1:', f1_score(y_res, y_train_pred))\n",
    "print('precision_score:', precision_score(y_res, y_train_pred))\n",
    "print('roc_auc_score:', roc_auc_score(y_res, y_train_pred))\n",
    "print('\\n\\nTest_set:')\n",
    "print('f1:', f1_score(y_test, y_test_pred))\n",
    "print('precision_score:', precision_score(y_test, y_test_pred))\n",
    "print('roc_auc_score:', roc_auc_score(y_test, y_test_pred))"
   ]
  },
  {
   "cell_type": "code",
   "execution_count": 119,
   "id": "0492150d",
   "metadata": {},
   "outputs": [],
   "source": [
    "# In comparing f1 and roc auc score increased, but precision decreased"
   ]
  },
  {
   "cell_type": "code",
   "execution_count": 120,
   "id": "53b2ebf3",
   "metadata": {},
   "outputs": [
    {
     "data": {
      "text/plain": [
       "'\\nTrain_set:\\nf1: 0.5154536390827517\\nprecision_score: 0.693029490616622\\nroc_auc_score: 0.6573108404805019\\n\\n\\nTest_set:\\nf1: 0.5394495412844037\\nprecision_score: 0.7170731707317073\\nroc_auc_score: 0.6722370766488414\\n'"
      ]
     },
     "execution_count": 120,
     "metadata": {},
     "output_type": "execute_result"
    }
   ],
   "source": [
    "'''\n",
    "Train_set:\n",
    "f1: 0.5154536390827517\n",
    "precision_score: 0.693029490616622\n",
    "roc_auc_score: 0.6573108404805019\n",
    "\n",
    "\n",
    "Test_set:\n",
    "f1: 0.5394495412844037\n",
    "precision_score: 0.7170731707317073\n",
    "roc_auc_score: 0.6722370766488414\n",
    "'''"
   ]
  },
  {
   "cell_type": "code",
   "execution_count": 121,
   "id": "153aad97",
   "metadata": {},
   "outputs": [],
   "source": [
    "# Trying other models"
   ]
  },
  {
   "cell_type": "code",
   "execution_count": 122,
   "id": "28a8aa52",
   "metadata": {},
   "outputs": [],
   "source": [
    "from sklearn.ensemble import RandomForestClassifier"
   ]
  },
  {
   "cell_type": "code",
   "execution_count": 123,
   "id": "29dbd39a",
   "metadata": {},
   "outputs": [
    {
     "data": {
      "text/plain": [
       "RandomForestClassifier(random_state=42)"
      ]
     },
     "execution_count": 123,
     "metadata": {},
     "output_type": "execute_result"
    }
   ],
   "source": [
    "forest = RandomForestClassifier(random_state = 42)\n",
    "forest.fit(X_res, y_res)"
   ]
  },
  {
   "cell_type": "code",
   "execution_count": 124,
   "id": "b3366d9f",
   "metadata": {},
   "outputs": [
    {
     "name": "stdout",
     "output_type": "stream",
     "text": [
      "Train_set:\n",
      "f1: 0.9289785181937747\n",
      "precision_score: 0.9485228290062668\n",
      "roc_auc_score: 0.9304123711340205\n",
      "\n",
      "\n",
      "Test_set:\n",
      "f1: 0.7569955817378499\n",
      "precision_score: 0.7581120943952803\n",
      "roc_auc_score: 0.8158199643493761\n"
     ]
    }
   ],
   "source": [
    "y_train_pred = forest.predict(X_res)\n",
    "y_test_pred = forest.predict(X_test)\n",
    "print('Train_set:')\n",
    "print('f1:', f1_score(y_res, y_train_pred))\n",
    "print('precision_score:', precision_score(y_res, y_train_pred))\n",
    "print('roc_auc_score:', roc_auc_score(y_res, y_train_pred))\n",
    "print('\\n\\nTest_set:')\n",
    "print('f1:', f1_score(y_test, y_test_pred))\n",
    "print('precision_score:', precision_score(y_test, y_test_pred))\n",
    "print('roc_auc_score:', roc_auc_score(y_test, y_test_pred))"
   ]
  },
  {
   "cell_type": "code",
   "execution_count": 125,
   "id": "8200ff90",
   "metadata": {},
   "outputs": [],
   "source": [
    "from lightgbm  import LGBMClassifier"
   ]
  },
  {
   "cell_type": "code",
   "execution_count": 126,
   "id": "7abaca30",
   "metadata": {},
   "outputs": [],
   "source": [
    "lgbm = LGBMClassifier(learning_rate = 0.112, n_estimators = 50, num_leaves = 100, random_state = 42).fit(X_res, y_res)"
   ]
  },
  {
   "cell_type": "code",
   "execution_count": 127,
   "id": "6632665c",
   "metadata": {},
   "outputs": [
    {
     "name": "stdout",
     "output_type": "stream",
     "text": [
      "Train_set:\n",
      "f1: 0.9187279151943464\n",
      "precision_score: 0.9454545454545454\n",
      "roc_auc_score: 0.9209621993127147\n",
      "\n",
      "\n",
      "Test_set:\n",
      "f1: 0.7662721893491123\n",
      "precision_score: 0.7708333333333334\n",
      "roc_auc_score: 0.8225490196078431\n"
     ]
    }
   ],
   "source": [
    "y_train_pred = lgbm.predict(X_res)\n",
    "y_test_pred = lgbm.predict(X_test)\n",
    "print('Train_set:')\n",
    "print('f1:', f1_score(y_res, y_train_pred))\n",
    "print('precision_score:', precision_score(y_res, y_train_pred))\n",
    "print('roc_auc_score:', roc_auc_score(y_res, y_train_pred))\n",
    "print('\\n\\nTest_set:')\n",
    "print('f1:', f1_score(y_test, y_test_pred))\n",
    "print('precision_score:', precision_score(y_test, y_test_pred))\n",
    "print('roc_auc_score:', roc_auc_score(y_test, y_test_pred))"
   ]
  },
  {
   "cell_type": "code",
   "execution_count": 128,
   "id": "4af36cbf",
   "metadata": {},
   "outputs": [],
   "source": [
    "# Much better result"
   ]
  },
  {
   "cell_type": "code",
   "execution_count": 129,
   "id": "39e6a131",
   "metadata": {},
   "outputs": [],
   "source": [
    "# feature selection trying"
   ]
  },
  {
   "cell_type": "code",
   "execution_count": 130,
   "id": "d449b73f",
   "metadata": {},
   "outputs": [],
   "source": [
    "from sklearn.feature_selection import RFECV"
   ]
  },
  {
   "cell_type": "code",
   "execution_count": 131,
   "id": "d7d5963c",
   "metadata": {},
   "outputs": [
    {
     "name": "stdout",
     "output_type": "stream",
     "text": [
      "Fitting estimator with 18 features.\n",
      "Fitting estimator with 17 features.\n",
      "Fitting estimator with 16 features.\n",
      "Fitting estimator with 15 features.\n",
      "Fitting estimator with 14 features.\n",
      "Fitting estimator with 13 features.\n",
      "Fitting estimator with 12 features.\n",
      "Fitting estimator with 11 features.\n",
      "Fitting estimator with 10 features.\n",
      "Fitting estimator with 9 features.\n",
      "Fitting estimator with 8 features.\n",
      "Fitting estimator with 7 features.\n",
      "Fitting estimator with 18 features.\n",
      "Fitting estimator with 17 features.\n",
      "Fitting estimator with 16 features.\n",
      "Fitting estimator with 15 features.\n",
      "Fitting estimator with 14 features.\n",
      "Fitting estimator with 13 features.\n",
      "Fitting estimator with 12 features.\n",
      "Fitting estimator with 11 features.\n",
      "Fitting estimator with 10 features.\n",
      "Fitting estimator with 9 features.\n",
      "Fitting estimator with 8 features.\n",
      "Fitting estimator with 7 features.\n",
      "Fitting estimator with 18 features.\n",
      "Fitting estimator with 17 features.\n",
      "Fitting estimator with 16 features.\n",
      "Fitting estimator with 15 features.\n",
      "Fitting estimator with 14 features.\n",
      "Fitting estimator with 13 features.\n",
      "Fitting estimator with 12 features.\n",
      "Fitting estimator with 11 features.\n",
      "Fitting estimator with 10 features.\n",
      "Fitting estimator with 9 features.\n",
      "Fitting estimator with 8 features.\n",
      "Fitting estimator with 7 features.\n",
      "Fitting estimator with 18 features.\n",
      "Fitting estimator with 17 features.\n"
     ]
    },
    {
     "data": {
      "text/plain": [
       "RFECV(cv=3,\n",
       "      estimator=LGBMClassifier(learning_rate=0.112, n_estimators=50,\n",
       "                               num_leaves=100, random_state=42),\n",
       "      min_features_to_select=6, scoring='f1', verbose=4)"
      ]
     },
     "execution_count": 131,
     "metadata": {},
     "output_type": "execute_result"
    }
   ],
   "source": [
    "rfe = RFECV(lgbm, min_features_to_select = 6, cv = 3, scoring = 'f1', verbose = 4)\n",
    "rfe.fit(X_res, y_res)"
   ]
  },
  {
   "cell_type": "code",
   "execution_count": 132,
   "id": "56092a77",
   "metadata": {},
   "outputs": [
    {
     "name": "stdout",
     "output_type": "stream",
     "text": [
      "TimeTogether\n",
      "cluster\n"
     ]
    }
   ],
   "source": [
    "for sup in range(len(X_res.columns)):\n",
    "    if(not rfe.support_[sup]):\n",
    "        print(X_res.columns[sup])"
   ]
  },
  {
   "cell_type": "code",
   "execution_count": 133,
   "id": "24a04a21",
   "metadata": {},
   "outputs": [],
   "source": [
    "X_rfe = rfe.transform(X_res)"
   ]
  },
  {
   "cell_type": "code",
   "execution_count": 134,
   "id": "127613f8",
   "metadata": {},
   "outputs": [],
   "source": [
    "lgbm = LGBMClassifier(learning_rate = 0.112, n_estimators = 50, num_leaves = 100, random_state = 42).fit(X_rfe, y_res)"
   ]
  },
  {
   "cell_type": "code",
   "execution_count": 136,
   "id": "199cc2f4",
   "metadata": {},
   "outputs": [
    {
     "name": "stdout",
     "output_type": "stream",
     "text": [
      "Train_set:\n",
      "f1: 0.9206279018350653\n",
      "precision_score: 0.9485193621867881\n",
      "roc_auc_score: 0.9228951890034364\n",
      "\n",
      "\n",
      "Test_set:\n",
      "f1: 0.7696879643387816\n",
      "precision_score: 0.7777777777777778\n",
      "roc_auc_score: 0.8248217468805704\n"
     ]
    }
   ],
   "source": [
    "y_train_pred = lgbm.predict(X_rfe)\n",
    "y_test_pred = lgbm.predict(rfe.transform(X_test))\n",
    "print('Train_set:')\n",
    "print('f1:', f1_score(y_res, y_train_pred))\n",
    "print('precision_score:', precision_score(y_res, y_train_pred))\n",
    "print('roc_auc_score:', roc_auc_score(y_res, y_train_pred))\n",
    "print('\\n\\nTest_set:')\n",
    "print('f1:', f1_score(y_test, y_test_pred))\n",
    "print('precision_score:', precision_score(y_test, y_test_pred))\n",
    "print('roc_auc_score:', roc_auc_score(y_test, y_test_pred))"
   ]
  },
  {
   "cell_type": "code",
   "execution_count": 137,
   "id": "a2feebf1",
   "metadata": {},
   "outputs": [],
   "source": [
    "# a little better result"
   ]
  },
  {
   "cell_type": "code",
   "execution_count": 138,
   "id": "373007f2",
   "metadata": {},
   "outputs": [
    {
     "data": {
      "text/plain": [
       "'\\nTrain_set:\\nf1: 0.9187279151943464\\nprecision_score: 0.9454545454545454\\nroc_auc_score: 0.9209621993127147\\n\\n\\nTest_set:\\nf1: 0.7662721893491123\\nprecision_score: 0.7708333333333334\\nroc_auc_score: 0.8225490196078431\\n'"
      ]
     },
     "execution_count": 138,
     "metadata": {},
     "output_type": "execute_result"
    }
   ],
   "source": [
    "'''\n",
    "Train_set:\n",
    "f1: 0.9187279151943464\n",
    "precision_score: 0.9454545454545454\n",
    "roc_auc_score: 0.9209621993127147\n",
    "\n",
    "\n",
    "Test_set:\n",
    "f1: 0.7662721893491123\n",
    "precision_score: 0.7708333333333334\n",
    "roc_auc_score: 0.8225490196078431\n",
    "'''"
   ]
  },
  {
   "cell_type": "code",
   "execution_count": null,
   "id": "94c4adcb",
   "metadata": {},
   "outputs": [],
   "source": []
  }
 ],
 "metadata": {
  "kernelspec": {
   "display_name": "Python 3 (ipykernel)",
   "language": "python",
   "name": "python3"
  },
  "language_info": {
   "codemirror_mode": {
    "name": "ipython",
    "version": 3
   },
   "file_extension": ".py",
   "mimetype": "text/x-python",
   "name": "python",
   "nbconvert_exporter": "python",
   "pygments_lexer": "ipython3",
   "version": "3.10.1"
  }
 },
 "nbformat": 4,
 "nbformat_minor": 5
}
